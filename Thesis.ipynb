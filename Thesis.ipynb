{
  "cells": [
    {
      "cell_type": "markdown",
      "metadata": {
        "id": "view-in-github",
        "colab_type": "text"
      },
      "source": [
        "<a href=\"https://colab.research.google.com/github/MortenWillendrup/Thesis/blob/master/Thesis.ipynb\" target=\"_parent\"><img src=\"https://colab.research.google.com/assets/colab-badge.svg\" alt=\"Open In Colab\"/></a>"
      ]
    },
    {
      "cell_type": "markdown",
      "source": [
        "# Loading data and defining functions"
      ],
      "metadata": {
        "id": "T12dXooGTHhx"
      }
    },
    {
      "cell_type": "code",
      "source": [
        "from google.colab import drive\n",
        "drive.mount('/content/drive')"
      ],
      "metadata": {
        "id": "ttKmma-4Lye6",
        "outputId": "6dc7ef42-1db9-4c9f-e1ea-34d68e9c663a",
        "colab": {
          "base_uri": "https://localhost:8080/"
        }
      },
      "execution_count": null,
      "outputs": [
        {
          "output_type": "stream",
          "name": "stdout",
          "text": [
            "Drive already mounted at /content/drive; to attempt to forcibly remount, call drive.mount(\"/content/drive\", force_remount=True).\n"
          ]
        }
      ]
    },
    {
      "cell_type": "code",
      "source": [
        "import os\n",
        "os.chdir('/content/drive/MyDrive/MBSPrepaymentPrediction')\n",
        "os.getcwd()\n",
        "ROOT_DIR = r'/content/drive/MyDrive/MBSPrepaymentPrediction'"
      ],
      "metadata": {
        "id": "3icUSZdoMREM"
      },
      "execution_count": null,
      "outputs": []
    },
    {
      "cell_type": "code",
      "source": [
        "import os\n",
        "import math\n",
        "import numpy as np\n",
        "\n",
        "import warnings\n",
        "warnings.filterwarnings('ignore')\n",
        "\n",
        "import matplotlib.pyplot as plt\n",
        "import pandas as pd\n",
        "from sklearn.decomposition import PCA\n",
        "from sklearn.preprocessing import StandardScaler\n",
        "\n",
        "#from Definitions import ROOT_DIR\n",
        "\n",
        "\n",
        "class StandardLoanLevelDatasetParser:\n",
        "\n",
        "    def __init__(self, max_rows_per_quarter=None, rows_to_sample=None, dump_to_csv=None, seed=None):\n",
        "\n",
        "        self.sll_dataset_dir = os.path.join(ROOT_DIR, \"Datasets/StandardLoanLevelDataset/Data/\")\n",
        "        #print(self.sll_dataset_dir)\n",
        "        self._issuance_cols = [\n",
        "            'credit_score', 'first_payment_date', 'first_time_homebuyer_flag', 'maturity_date', 'MSA', 'MI_%',\n",
        "            'number_of_units', 'occupancy_status', 'orig_CLTV', 'orig_DTI', 'orig_UPB', 'orig_LTV',\n",
        "            'orig_interest_rate', 'channel', 'PPM', 'amortization_type', 'property_state', 'property_type',\n",
        "            'postal_code', 'loan_sequence_number', 'loan_purpose', 'orig_loan_term', 'number_of_borrowers',\n",
        "            'seller_name', 'servicer_name', 'super_conforming', 'pre-harp_sequence_number', 'program_indicator',\n",
        "            'harp_indicator', 'property_valuation_method', 'io_indicator'\n",
        "        ]\n",
        "        self._issuance_string = \"historical_data\"\n",
        "\n",
        "        self._performance_cols = [\n",
        "            'loan_sequence_number', 'report_month', 'current_UPB', 'current_loan_dlqc_status', 'loan_age',\n",
        "            'months_to_maturity', 'repurchase', 'modification', 'zero_balance_code', 'zero_balance_date',\n",
        "            'current_interest_rate', 'current_deffered_UPB', 'DDLPI', 'MI_recoveries', 'net_sales_proceeds',\n",
        "            'non_MI_recoveries', 'expenses', 'legal_costs', 'maintenance_costs', 'taxes_and_insurence',\n",
        "            'miscellaneous_expenses', 'actual_loss', 'modification_cost', 'step_modification', 'deferred_payment_plan',\n",
        "            'estimated_LTV', 'zero_balance_removal_UPB', 'dlq_accrued_interest', 'dlqc_due_to_disaster',\n",
        "            'borrower_assistance_status'\n",
        "        ]\n",
        "        self._performance_string = self._issuance_string + \"_time\"\n",
        "\n",
        "        self.us_hpa_path = os.path.join(ROOT_DIR, \"Datasets/MacroData/US_HPA.csv\")\n",
        "        self.us_hpa_cols = ['hpa_state', 'hpa_year', 'hpa_quarter', 'hpi']\n",
        "\n",
        "        self.state_hpa_path = os.path.join(ROOT_DIR, \"Datasets/MacroData/state_HPA.csv\")\n",
        "        self.state_hpa_cols = ['hpa_state', 'hpa_year', 'hpa_quarter', 'hpi']\n",
        "\n",
        "        self.mtg_rate_path = os.path.join(ROOT_DIR, \"Datasets/MacroData/mortgage_rate.csv\")\n",
        "        self.mtg_rate_cols = ['mtg_date', 'mtg_rate']\n",
        "        self.mtg_rate_header = 8\n",
        "\n",
        "        self.unemployment_rate_path = os.path.join(ROOT_DIR, \"Datasets/MacroData/unemployment_rate.csv\")\n",
        "        self.unemployment_rate_cols = ['unemp_series_id', 'unemp_year', 'unemp_period', 'unemp_rate']\n",
        "        self.unemployment_rate_header = 0\n",
        "\n",
        "        self.data_types = {\n",
        "            # Issuance data types\n",
        "            'credit_score': 'int64', 'first_payment_date': 'int64', 'first_time_homebuyer_flag': 'S',\n",
        "            'maturity_date': 'int64', 'MSA': 'float64', 'MI_%': 'S', 'number_of_units': 'S',\n",
        "            'occupancy_status': 'S', 'orig_CLTV': 'int64', 'orig_DTI': 'int64', 'orig_UPB': 'int64', 'orig_LTV': 'int64',\n",
        "            'orig_interest_rate': 'S', 'channel': 'S', 'PPM': 'S', 'amortization_type': 'S',\n",
        "            'property_state': 'S', 'property_type': 'S', 'postal_code': 'int64', 'loan_sequence_number': 'S',\n",
        "            'loan_purpose': 'S', 'orig_loan_term': 'int64', 'number_of_borrowers': 'int64', 'seller_name': 'S',\n",
        "            'servicer_name': 'S', 'super_conforming': 'S', 'pre-harp_sequence_number': 'S', 'program_indicator': 'S',\n",
        "            'harp_indicator': 'S', 'property_valuation_method': 'int64', 'io_indicator': 'S',\n",
        "            # Performance data types\n",
        "            'report_month': 'int64', 'current_UPB': 'float64', 'current_loan_dlqc_status': 'S', 'loan_age': 'int64',\n",
        "            'months_to_maturity': 'int64', 'repurchase': 'S', 'modification': 'S', 'zero_balance_code': 'float64',\n",
        "            'zero_balance_date': 'float64', 'current_interest_rate': 'float64', 'current_deffered_UPB': 'S',\n",
        "            'DDLPI': 'float64', 'MI_recoveries': 'float64', 'net_sales_proceeds': 'float64', 'non_MI_recoveries': 'float64',\n",
        "            'expenses': 'float64', 'legal_costs': 'float64', 'maintenance_costs': 'float64',\n",
        "            'taxes_and_insurence': 'float64', 'miscellaneous_expenses': 'float64', 'actual_loss': 'float64',\n",
        "            'modification_cost': 'float64', 'step_modification': 'S', 'deferred_payment_plan': 'S',\n",
        "            'estimated_LTV': 'float64', 'zero_balance_removal_UPB': 'float64', 'dlq_accrued_interest': 'float64',\n",
        "            'dlqc_due_to_disaster': 'S', 'borrower_assistance_status': 'S',\n",
        "            # US / State HPA data types\n",
        "            'hpa_state': 'S', 'hpa_year': 'int64', 'hpa_quarter': 'int64', 'hpi': 'float64',\n",
        "            # Mortgage Rate data types\n",
        "            'mtg_date': 'S', 'mtg_rate': 'float64',\n",
        "            # Unemployment Rate data types\n",
        "            'unemp_series_id': 'S', 'unemp_year': 'int64', 'unemp_period': 'S', 'unemp_rate': 'float64'\n",
        "        }\n",
        "\n",
        "        self.categorical_cols = ['occupancy_status', 'property_state', 'loan_purpose', 'month']\n",
        "        self.numerical_cols = [\n",
        "            'credit_score', 'first_time_homebuyer_flag', 'MI_%', 'number_of_units', 'orig_CLTV', 'orig_DTI', 'orig_UPB',\n",
        "            'orig_LTV', 'orig_interest_rate', 'PPM', 'number_of_borrowers', 'program_indicator', 'harp_indicator',\n",
        "            'current_UPB', 'loan_age', 'months_to_maturity', 'modification', 'current_interest_rate',\n",
        "            'current_deffered_UPB', 'step_modification', 'deferred_payment_plan', 'borrower_assistance_status', 'hpa',\n",
        "            'mtg_rate', 'unemp_rate', 'zero_balance_code'\n",
        "        ]\n",
        "\n",
        "\n",
        "        self.max_rows_per_quarter = max_rows_per_quarter\n",
        "        self.data = pd.DataFrame()\n",
        "        self.seed = seed\n",
        "        self.rows_to_sample = rows_to_sample\n",
        "        self.dump_to_csv = dump_to_csv\n",
        "\n",
        "    def load(self):\n",
        "        print(f\"Loading Standard Loan-Level Dataset at path {self.sll_dataset_dir}\")\n",
        "        #print(\"this is working\")\n",
        "        for root, dirs, _ in os.walk(self.sll_dataset_dir):\n",
        "            #print(root)\n",
        "            #print(dirs)\n",
        "            #print(_)\n",
        "            for dir_name in _:\n",
        "                #print(f' this is the dir name {dir_name}')\n",
        "                # if \"historical_data_\" not in dir_name or \"Q\" not in dir_name:\n",
        "                #     continue\n",
        "                #print('\\n')\n",
        "                print(f\"Adding data from {dir_name} to dataset...\")\n",
        "                dir_path = os.path.join(root, dir_name)\n",
        "\n",
        "                split_name = dir_path.split('_')\n",
        "                year = split_name[-1][:4]\n",
        "                quarter = split_name[-1][4:]\n",
        "\n",
        "                issuance_path = os.path.join(root, self._issuance_string + \"_\" + year + quarter )\n",
        "                #print(issuance_path)\n",
        "                performance_path = os.path.join(root, self._performance_string + \"_\" + year + quarter )\n",
        "                #print(performance_path)\n",
        "                issuance = pd.read_csv(issuance_path, delimiter='|', names=self._issuance_cols, dtype=self.data_types,\n",
        "                                       nrows=self.max_rows_per_quarter, error_bad_lines=False)\n",
        "                issuance = issuance[issuance.eval(\n",
        "                    \"amortization_type=='FRM' & property_type=='SF' & orig_loan_term==360 & io_indicator=='N'\")]\n",
        "                \n",
        "                #print('issuance loaded')\n",
        "                if self.rows_to_sample:\n",
        "                    issuance = issuance.sample(min(self.rows_to_sample, len(issuance.index)), random_state=self.seed)\n",
        "\n",
        "                performance = pd.read_csv(performance_path, delimiter='|', names=self._performance_cols, dtype=self.data_types, nrows=self.max_rows_per_quarter, index_col=False)\n",
        "                performance = performance.loc[performance['loan_sequence_number'].isin(set(issuance['loan_sequence_number']))]\n",
        "                #print('issuance loaded')\n",
        "                full_data = performance.join(issuance.set_index('loan_sequence_number'), on='loan_sequence_number')\n",
        "                full_data['year'] = int(year)\n",
        "                full_data['quarter'] = int(quarter[1])\n",
        "                full_data['report_year'] = full_data['report_month'] // 100\n",
        "                full_data['report_quarter'] = full_data['report_month'] % 100 // 4 + 1\n",
        "                self.data = self.data.append(full_data)\n",
        "\n",
        "        us_hpa = pd.read_csv(self.us_hpa_path, delimiter=';', names=self.us_hpa_cols, dtype=self.data_types) # setting the US HPI as the HPI for Puerto Rico\n",
        "        us_hpa = us_hpa[us_hpa['hpa_state'] == 'USA']\n",
        "        us_hpa['hpa'] = ((us_hpa.hpi / us_hpa.hpi.shift(1)) ** 4 - 1) * 100 # Should use interpolate instead , look at https://stackoverflow.com/questions/61761785/pandas-convert-quarterly-data-into-monthly-data\n",
        "        us_hpa['hpa_state'] = 'PR' \n",
        "\n",
        "        state_hpa = pd.read_csv(self.state_hpa_path, delimiter=',', names=self.state_hpa_cols, dtype=self.data_types)\n",
        "        state_hpa['hpa'] = ((state_hpa.hpi / state_hpa.hpi.shift(1)) ** 4 - 1) * 100\n",
        "\n",
        "        hpa = pd.concat([state_hpa, us_hpa])\n",
        "        self.data = self.data.join(hpa.set_index(['hpa_state', 'hpa_year', 'hpa_quarter']), on=['property_state', 'report_year', 'report_quarter'])\n",
        "\n",
        "        mtg_rate = pd.read_csv(self.mtg_rate_path, header=self.mtg_rate_header, names=self.mtg_rate_cols, dtype=self.data_types)\n",
        "        split_date = mtg_rate['mtg_date'].str.split('-', expand=True)\n",
        "        mtg_rate['yearmon'] = split_date[0].astype(int) * 100 + split_date[1].astype(int)\n",
        "        mtg_rate = mtg_rate.drop(columns='mtg_date')\n",
        "        self.data = self.data.join(mtg_rate.set_index('yearmon'), on='report_month')\n",
        "\n",
        "        unemp = pd.read_csv(self.unemployment_rate_path, delimiter=';', header=self.unemployment_rate_header, names=self.unemployment_rate_cols, dtype=self.data_types)\n",
        "        unemp.columns = self.unemployment_rate_cols\n",
        "        unemp['yearmon'] = unemp['unemp_year'] * 100 + unemp['unemp_period'].str.slice(1, 3).astype(int)\n",
        "        unemp = unemp.drop(columns=['unemp_series_id', 'unemp_year', 'unemp_period'])\n",
        "        self.data = self.data.join(unemp.set_index('yearmon'), on='report_month')\n",
        "        #print(\"time for cleaning\")\n",
        "        self._clean()\n",
        "\n",
        "        #self.data = self.data[self.use_cols]\n",
        "\n",
        "        if self.dump_to_csv:\n",
        "            self.data.to_csv(self.sll_dataset_dir+'/'+dir_name[0:-4]+'.csv', index=False)\n",
        "\n",
        "    def _clean(self):\n",
        "        self.data['MSA'] = self.data['MSA'].apply(lambda x: 999 if math.isnan(x) else x)\n",
        "        self.data['number_of_units'] = self.data['number_of_units'].apply(lambda x: 99 if x == '.' else int(x))\n",
        "        self.data['harp_indicator'] = self.data['harp_indicator'].apply(lambda x: 0 if x != 'Y' else 1)\n",
        "        self.data['first_time_homebuyer_flag'] = self.data['first_time_homebuyer_flag'].apply(lambda x: 0 if x == 'N' else 1)\n",
        "        self.data['program_indicator'] = self.data['program_indicator'].apply(lambda x: 0 if x == 9 else 1)\n",
        "        self.data['PPM'] = self.data['PPM'].apply(lambda x: 0 if x == 'N' else 1)\n",
        "        self.data['super_conforming'] = self.data['super_conforming'].apply(lambda x: 1 if x == 'Y' else 0)\n",
        "        self.data['pre-harp_sequence_number'] = self.data['pre-harp_sequence_number'].apply(lambda x: \"\" if pd.isna(x) else x)\n",
        "        self.data['orig_interest_rate'] = self.data['orig_interest_rate'].apply(lambda x: 0.0 if x == '.' else float(x))\n",
        "        self.data['MI_%'] = self.data['MI_%'].apply(lambda x: 0 if x == '.' else int(x))\n",
        "\n",
        "        self.data['modification'] = self.data['modification'].apply(lambda x: 0 if x != 'Y' else 1)\n",
        "        self.data['step_modification'] = self.data['step_modification'].apply(lambda x: 0 if x != 'Y' else 1)\n",
        "        self.data['deferred_payment_plan'] = self.data['deferred_payment_plan'].apply(lambda x: 0 if x != 'Y' else 1)\n",
        "        self.data['borrower_assistance_status'] = self.data['borrower_assistance_status'].apply(lambda x: 0 if x not in ['F', 'R', 'T'] else 1)\n",
        "        self.data['current_deffered_UPB'] = self.data['current_deffered_UPB'].apply(lambda x: 0.0 if x == '.' else float(x))\n",
        "        self.data['zero_balance_code'] = self.data['zero_balance_code'].apply(lambda x: int(1) if x == 1 else int(0))\n",
        "        self.data['zero_balance_date'] = self.data['zero_balance_date'].apply(lambda x: 1 if pd.isna(x) else int(x))\n",
        "        self.data['DDLPI'] = self.data['DDLPI'].apply(lambda x: 1 if pd.isna(x) else int(x))\n",
        "        self.data['repurchase'] = self.data['repurchase'].apply(lambda x: 1 if x == 'Y' else 0)\n",
        "        self.data['MI_recoveries'] = self.data['MI_recoveries'].apply(lambda x: 0.0 if pd.isna(x) else x)\n",
        "        self.data['net_sales_proceeds'] = self.data['net_sales_proceeds'].apply(lambda x: 0.0 if pd.isna(x) else x)\n",
        "        self.data['non_MI_recoveries'] = self.data['non_MI_recoveries'].apply(lambda x: 0.0 if pd.isna(x) else x)\n",
        "        self.data['expenses'] = self.data['expenses'].apply(lambda x: 0.0 if pd.isna(x) else x)\n",
        "        self.data['legal_costs'] = self.data['legal_costs'].apply(lambda x: 0.0 if pd.isna(x) else x)\n",
        "        self.data['maintenance_costs'] = self.data['maintenance_costs'].apply(lambda x: 0.0 if pd.isna(x) else x)\n",
        "        self.data['taxes_and_insurence'] = self.data['taxes_and_insurence'].apply(lambda x: 0.0 if pd.isna(x) else x)\n",
        "        self.data['miscellaneous_expenses'] = self.data['miscellaneous_expenses'].apply(lambda x: 0.0 if pd.isna(x) else x)\n",
        "        self.data['actual_loss'] = self.data['actual_loss'].apply(lambda x: 0.0 if pd.isna(x) else x)\n",
        "        self.data['modification_cost'] = self.data['modification_cost'].apply(lambda x: 0.0 if pd.isna(x) else x)\n",
        "        self.data['estimated_LTV'] = self.data['estimated_LTV'].apply(lambda x: 0.0 if pd.isna(x) else x)\n",
        "        self.data['zero_balance_removal_UPB'] = self.data['zero_balance_removal_UPB'].apply(lambda x: 0.0 if pd.isna(x) else x)\n",
        "        self.data['dlq_accrued_interest'] = self.data['dlq_accrued_interest'].apply(lambda x: 0.0 if pd.isna(x) else x)\n",
        "        self.data['dlqc_due_to_disaster'] = self.data['dlqc_due_to_disaster'].apply(lambda x: 1 if x == 'Y' else 0)\n",
        "        self.data['month'] = self.data['report_month'] % 100\n",
        "\n",
        "        self.data = self.data[self.data.hpa.isnull() == False]\n",
        "\n",
        "    def get_dataset(self, extra_cols=None):\n",
        "        self.data[self.categorical_cols] = self.data[self.categorical_cols].astype('category')\n",
        "        df_dummy = pd.get_dummies(self.data[self.categorical_cols])\n",
        "        df = pd.concat([self.data[self.numerical_cols], df_dummy], axis=1)\n",
        "        if extra_cols is not None:\n",
        "            df = pd.concat([df, self.data[['report_month', 'zero_balance_removal_UPB']]], axis=1)\n",
        "        return df\n",
        "\n",
        "    def dataset_name(self):\n",
        "        name = []\n",
        "        for root, dirs, _ in os.walk(self.sll_dataset_dir):\n",
        "            for dir_name in _:\n",
        "                #print(dir_name[0:-4])\n",
        "                name.append(dir_name[0:-4])\n",
        "        return name[0]\n",
        "\n",
        "    def get_cols(self, columns):\n",
        "        return pd.DataFrame(self.data[columns], columns=columns)\n",
        "\n",
        "    def _load_issuance_data(self, file_path):\n",
        "        issuance = pd.read_csv(file_path, delimiter='|', header=None)\n",
        "        issuance.columns = self._issuance_cols\n",
        "        self.data.join(issuance.set_index('loan'))\n"
      ],
      "metadata": {
        "id": "vfQt1GgrH2BX"
      },
      "execution_count": null,
      "outputs": []
    },
    {
      "cell_type": "code",
      "source": [
        "\n",
        "    # Visualize the dataset using PCA\n",
        "\n",
        "sll_data_parser = StandardLoanLevelDatasetParser(max_rows_per_quarter=50000,\n",
        "                                                  rows_to_sample=50000,\n",
        "                                                  seed=2022)\n",
        "\n"
      ],
      "metadata": {
        "id": "DBianBxAH8Vv"
      },
      "execution_count": null,
      "outputs": []
    },
    {
      "cell_type": "markdown",
      "source": [
        "# Loading data into dataframe"
      ],
      "metadata": {
        "id": "MJYC2AcCXKMn"
      }
    },
    {
      "cell_type": "code",
      "source": [
        "sll_data_parser.load()"
      ],
      "metadata": {
        "id": "i6UMQT72Taw3",
        "outputId": "e6340bc5-04f2-4396-d539-5fa56ada2195",
        "colab": {
          "base_uri": "https://localhost:8080/"
        }
      },
      "execution_count": null,
      "outputs": [
        {
          "output_type": "stream",
          "name": "stdout",
          "text": [
            "Loading Standard Loan-Level Dataset at path /content/drive/MyDrive/MBSPrepaymentPrediction/Datasets/StandardLoanLevelDataset/Data/\n",
            "Adding data from historical_data_time_2010Q2.txt to dataset...\n",
            "Adding data from historical_data_time_2010Q3.txt to dataset...\n",
            "Adding data from historical_data_time_2010Q4.txt to dataset...\n",
            "Adding data from historical_data_time_2011Q1.txt to dataset...\n",
            "Adding data from historical_data_time_2011Q2.txt to dataset...\n",
            "Adding data from historical_data_time_2011Q3.txt to dataset...\n",
            "Adding data from historical_data_time_2011Q4.txt to dataset...\n",
            "Adding data from historical_data_time_2012Q1.txt to dataset...\n",
            "Adding data from historical_data_time_2012Q2.txt to dataset...\n",
            "Adding data from historical_data_time_2012Q3.txt to dataset...\n",
            "Adding data from historical_data_time_2012Q4.txt to dataset...\n",
            "Adding data from historical_data_time_2013Q1.txt to dataset...\n",
            "Adding data from historical_data_time_2013Q2.txt to dataset...\n",
            "Adding data from historical_data_time_2013Q3.txt to dataset...\n",
            "Adding data from historical_data_time_2013Q4.txt to dataset...\n",
            "Adding data from historical_data_time_2014Q1.txt to dataset...\n",
            "Adding data from historical_data_time_2014Q2.txt to dataset...\n",
            "Adding data from historical_data_time_2014Q3.txt to dataset...\n",
            "Adding data from historical_data_time_2014Q4.txt to dataset...\n",
            "Adding data from historical_data_time_2015Q1.txt to dataset...\n",
            "Adding data from historical_data_time_2015Q2.txt to dataset...\n",
            "Adding data from historical_data_time_2015Q3.txt to dataset...\n",
            "Adding data from historical_data_time_2015Q4.txt to dataset...\n",
            "Adding data from historical_data_time_2016Q1.txt to dataset...\n",
            "Adding data from historical_data_time_2016Q2.txt to dataset...\n",
            "Adding data from historical_data_time_2016Q3.txt to dataset...\n",
            "Adding data from historical_data_time_2016Q4.txt to dataset...\n",
            "Adding data from historical_data_time_2017Q1.txt to dataset...\n",
            "Adding data from historical_data_time_2017Q2.txt to dataset...\n",
            "Adding data from historical_data_time_2017Q3.txt to dataset...\n",
            "Adding data from historical_data_time_2017Q4.txt to dataset...\n",
            "Adding data from historical_data_time_2018Q1.txt to dataset...\n",
            "Adding data from historical_data_time_2018Q2.txt to dataset...\n",
            "Adding data from historical_data_time_2018Q3.txt to dataset...\n",
            "Adding data from historical_data_time_2018Q4.txt to dataset...\n",
            "Adding data from historical_data_time_2019Q1.txt to dataset...\n",
            "Adding data from historical_data_time_2019Q2.txt to dataset...\n",
            "Adding data from historical_data_time_2019Q3.txt to dataset...\n",
            "Adding data from historical_data_time_2019Q4.txt to dataset...\n",
            "Adding data from historical_data_time_2020Q1.txt to dataset...\n",
            "Adding data from historical_data_time_2020Q2.txt to dataset...\n",
            "Adding data from historical_data_time_2020Q3.txt to dataset...\n",
            "Adding data from historical_data_time_2020Q4.txt to dataset...\n",
            "Adding data from historical_data_time_2021Q1.txt to dataset...\n",
            "Adding data from historical_data_time_2021Q2.txt to dataset...\n",
            "Adding data from historical_data_time_2021Q3.txt to dataset...\n",
            "Adding data from historical_data_2010Q2.txt to dataset...\n",
            "Adding data from historical_data_2010Q3.txt to dataset...\n",
            "Adding data from historical_data_2010Q4.txt to dataset...\n",
            "Adding data from historical_data_2011Q1.txt to dataset...\n",
            "Adding data from historical_data_2011Q2.txt to dataset...\n",
            "Adding data from historical_data_2011Q3.txt to dataset...\n",
            "Adding data from historical_data_2011Q4.txt to dataset...\n",
            "Adding data from historical_data_2012Q1.txt to dataset...\n",
            "Adding data from historical_data_2012Q2.txt to dataset...\n",
            "Adding data from historical_data_2012Q3.txt to dataset...\n",
            "Adding data from historical_data_2012Q4.txt to dataset...\n",
            "Adding data from historical_data_2013Q1.txt to dataset...\n",
            "Adding data from historical_data_2013Q2.txt to dataset...\n",
            "Adding data from historical_data_2013Q3.txt to dataset...\n",
            "Adding data from historical_data_2013Q4.txt to dataset...\n",
            "Adding data from historical_data_2014Q1.txt to dataset...\n",
            "Adding data from historical_data_2014Q2.txt to dataset...\n",
            "Adding data from historical_data_2014Q3.txt to dataset...\n",
            "Adding data from historical_data_2014Q4.txt to dataset...\n",
            "Adding data from historical_data_2015Q1.txt to dataset...\n",
            "Adding data from historical_data_2015Q2.txt to dataset...\n",
            "Adding data from historical_data_2015Q3.txt to dataset...\n",
            "Adding data from historical_data_2015Q4.txt to dataset...\n",
            "Adding data from historical_data_2016Q1.txt to dataset...\n",
            "Adding data from historical_data_2016Q2.txt to dataset...\n",
            "Adding data from historical_data_2016Q3.txt to dataset...\n",
            "Adding data from historical_data_2016Q4.txt to dataset...\n",
            "Adding data from historical_data_2017Q1.txt to dataset...\n",
            "Adding data from historical_data_2017Q2.txt to dataset...\n",
            "Adding data from historical_data_2017Q3.txt to dataset...\n",
            "Adding data from historical_data_2017Q4.txt to dataset...\n",
            "Adding data from historical_data_2018Q1.txt to dataset...\n",
            "Adding data from historical_data_2018Q2.txt to dataset...\n",
            "Adding data from historical_data_2018Q3.txt to dataset...\n",
            "Adding data from historical_data_2018Q4.txt to dataset...\n",
            "Adding data from historical_data_2019Q1.txt to dataset...\n",
            "Adding data from historical_data_2019Q2.txt to dataset...\n",
            "Adding data from historical_data_2019Q3.txt to dataset...\n",
            "Adding data from historical_data_2019Q4.txt to dataset...\n",
            "Adding data from historical_data_2020Q1.txt to dataset...\n",
            "Adding data from historical_data_2020Q2.txt to dataset...\n",
            "Adding data from historical_data_2020Q3.txt to dataset...\n",
            "Adding data from historical_data_2020Q4.txt to dataset...\n",
            "Adding data from historical_data_2021Q1.txt to dataset...\n",
            "Adding data from historical_data_2021Q2.txt to dataset...\n",
            "Adding data from historical_data_2021Q3.txt to dataset...\n",
            "Adding data from historical_data_time_2010Q1.txt to dataset...\n",
            "Adding data from historical_data_2010Q1.txt to dataset...\n"
          ]
        }
      ]
    },
    {
      "cell_type": "markdown",
      "source": [
        "# Extracting dataframe and cleaning"
      ],
      "metadata": {
        "id": "Rvwz9NlWXqyW"
      }
    },
    {
      "cell_type": "code",
      "source": [
        "df_new =sll_data_parser.data"
      ],
      "metadata": {
        "id": "pRJsJHhCIolc"
      },
      "execution_count": null,
      "outputs": []
    },
    {
      "cell_type": "code",
      "source": [
        "drop_cols= ['current_loan_dlqc_status', 'repurchase', 'modification', 'zero_balance_code', 'zero_balance_date',\n",
        "            'current_deffered_UPB', 'DDLPI', 'MI_recoveries', 'net_sales_proceeds', 'non_MI_recoveries', 'expenses',\n",
        "            'legal_costs', 'maintenance_costs', 'taxes_and_insurence', 'miscellaneous_expenses', 'actual_loss',\n",
        "            'modification_cost', 'step_modification', 'deferred_payment_plan', 'zero_balance_removal_UPB',\n",
        "            'dlq_accrued_interest', 'dlqc_due_to_disaster', 'borrower_assistance_status', 'first_time_homebuyer_flag',\n",
        "            'MSA', 'MI_%', 'number_of_units', 'orig_CLTV', 'channel', 'PPM', 'amortization_type', 'property_type',\n",
        "            'postal_code', 'orig_loan_term', 'seller_name', 'servicer_name', 'super_conforming', 'pre-harp_sequence_number',\n",
        "            'program_indicator', 'harp_indicator', 'property_valuation_method', 'io_indicator', \n",
        "            'estimated_LTV', 'report_quarter','first_payment_date', 'maturity_date']\n",
        "\n",
        "\n",
        "df_new = df_new.drop(columns=drop_cols).drop_duplicates(keep='first') # removing duplicate loans"
      ],
      "metadata": {
        "id": "hd36ZFv95AP_"
      },
      "execution_count": null,
      "outputs": []
    },
    {
      "cell_type": "code",
      "source": [
        "# Testing to see if there are any nulls in the dataframe\n",
        "df_new.isnull().sum()"
      ],
      "metadata": {
        "id": "QNcruTxsu797",
        "colab": {
          "base_uri": "https://localhost:8080/"
        },
        "outputId": "8fef0f01-b918-4d52-8ca9-9646c4435366"
      },
      "execution_count": null,
      "outputs": [
        {
          "output_type": "execute_result",
          "data": {
            "text/plain": [
              "loan_sequence_number     0\n",
              "report_month             0\n",
              "current_UPB              0\n",
              "loan_age                 0\n",
              "months_to_maturity       0\n",
              "current_interest_rate    0\n",
              "credit_score             0\n",
              "occupancy_status         0\n",
              "orig_DTI                 0\n",
              "orig_UPB                 0\n",
              "orig_LTV                 0\n",
              "orig_interest_rate       0\n",
              "property_state           0\n",
              "loan_purpose             0\n",
              "number_of_borrowers      0\n",
              "year                     0\n",
              "quarter                  0\n",
              "report_year              0\n",
              "hpi                      0\n",
              "hpa                      0\n",
              "mtg_rate                 0\n",
              "unemp_rate               0\n",
              "month                    0\n",
              "dtype: int64"
            ]
          },
          "metadata": {},
          "execution_count": 8
        }
      ]
    },
    {
      "cell_type": "markdown",
      "source": [
        "## Region identifier"
      ],
      "metadata": {
        "id": "Sa-I1zJf54Vn"
      }
    },
    {
      "cell_type": "code",
      "source": [
        "Region = {\n",
        "    'West'      : ['AZ', 'CO', 'ID','NM', 'MT', 'UT', 'NV', 'WY', 'WA', 'AK', 'HI', 'OR', 'CA'],\n",
        "    'Midwest'  : ['IN', 'IL', 'MI', 'OH', 'WI', 'IA', 'KS', 'MN', 'MO', 'NE', 'ND', 'SD'],\n",
        "    'Northeast' : ['CT', 'ME', 'MA', 'NH', 'RI', 'VT', 'NJ', 'NY', 'PA'],\n",
        "    'South'     : ['DE', 'DC', 'FL', 'GA', 'MD', 'NC', 'SC', 'VA', 'WV', 'AL', 'KY',\n",
        "                   'MS', 'TN', 'AR', 'LA', 'OK', 'TX', 'PR']}\n",
        "\n",
        "\n",
        "\n"
      ],
      "metadata": {
        "id": "w2iRve0q5rGQ"
      },
      "execution_count": null,
      "outputs": []
    },
    {
      "cell_type": "code",
      "source": [
        "def reverse_search_from_dictionary(dictionary, value):\n",
        "    keys = dictionary.keys()\n",
        "    for key in keys:\n",
        "        if value in dictionary.get(key):\n",
        "            return key\n",
        "    return \"Not present\"\n",
        "\n"
      ],
      "metadata": {
        "id": "zfZERK5gAmJZ"
      },
      "execution_count": null,
      "outputs": []
    },
    {
      "cell_type": "code",
      "source": [
        "df_new['region'] = df_new.apply(lambda row: reverse_search_from_dictionary(Region ,row.property_state), axis=1)"
      ],
      "metadata": {
        "id": "XpJ1eQ68Al52"
      },
      "execution_count": null,
      "outputs": []
    },
    {
      "cell_type": "markdown",
      "source": [
        "# Pool creation"
      ],
      "metadata": {
        "id": "kC9yA6ZHLFwI"
      }
    },
    {
      "cell_type": "markdown",
      "source": [
        "## Pool specifications"
      ],
      "metadata": {
        "id": "7F6P4UG5LCvn"
      }
    },
    {
      "cell_type": "code",
      "source": [
        "fico_list = [[301, 500], \n",
        "             #[401, 500], \n",
        "             [501, 700], \n",
        "             #[601, 700], \n",
        "             #[701, 850], \n",
        "             [701, 850]] \n",
        "interest_rate_list = [[0, 4.5-0.1e-3],\n",
        "                      [5, 5.5-0.1e-3], \n",
        "                      [5.5, 6.5-0.1e-3], \n",
        "                      [6.5, 7.5-0.1e-3], \n",
        "                      [7.5, 10-0.1e-3]]\n",
        "\n",
        "loan_list = [[0, 150e3-1], \n",
        "            #[85e3, 150e3-1], \n",
        "            [150e3, 350e3-1], \n",
        "            # [250e3, 350e3-1],\n",
        "            [350e3, 85000e3-1]]\n",
        "\n",
        "region_list = ['Northeast', 'West', 'Midwest', 'South']\n",
        "\n",
        "year_list =[2011,\n",
        "            2012,\n",
        "            2013,\n",
        "            2014,\n",
        "            2015,\n",
        "            2016,\n",
        "            2017,\n",
        "            2018,\n",
        "            2019,\n",
        "            2020,\n",
        "            2021]"
      ],
      "metadata": {
        "id": "sLr2no5GRn19"
      },
      "execution_count": null,
      "outputs": []
    },
    {
      "cell_type": "code",
      "source": [
        "populated_list = []\n",
        "i = 0\n",
        "for score in fico_list:\n",
        "  for interest in interest_rate_list:\n",
        "    for loan in loan_list:\n",
        "      for region in region_list:\n",
        "        for year in year_list:\n",
        "        #print(i)\n",
        "          populated_list.append([i , score, interest, loan, region, year])\n",
        "          i +=1"
      ],
      "metadata": {
        "id": "NLCFv6-NYwua"
      },
      "execution_count": null,
      "outputs": []
    },
    {
      "cell_type": "markdown",
      "source": [
        "Setting up the conditions for the pools"
      ],
      "metadata": {
        "id": "M4QoKSpcLQgh"
      }
    },
    {
      "cell_type": "code",
      "source": [
        "# create a list of our conditions\n",
        "poolid = []\n",
        "conditions = []\n",
        "for value in populated_list:\n",
        "      poolid.append(value[0])\n",
        "\n",
        "for value in populated_list:\n",
        "  conditions.append((df_new['credit_score'] > value[1][0]) & \n",
        "                    (df_new['credit_score'] <= value[1][1]) & \n",
        "                    (df_new['current_interest_rate'] > value[2][0]) & \n",
        "                    (df_new['current_interest_rate'] <= value[2][1]) &\n",
        "                    (df_new['current_UPB'] > value[3][0]) &\n",
        "                    (df_new['current_UPB'] <= value[3][1]) &\n",
        "                    (df_new['region'] == value[4])&\n",
        "                    (df_new['year'] == value[5]))\n",
        "\n",
        "\n",
        "\n",
        "\n"
      ],
      "metadata": {
        "id": "JKdaDMQcPe4a"
      },
      "execution_count": null,
      "outputs": []
    },
    {
      "cell_type": "markdown",
      "source": [
        "Creating a copy to ensure that we can go back if data becomes fucked up"
      ],
      "metadata": {
        "id": "fimXkhvTLacG"
      }
    },
    {
      "cell_type": "code",
      "source": [
        "df_new_backup = df_new.copy()"
      ],
      "metadata": {
        "id": "9bD_wiamnNCd"
      },
      "execution_count": null,
      "outputs": []
    },
    {
      "cell_type": "code",
      "source": [
        "# create a list of the values we want to assign for each condition\n",
        "\n",
        "# create a new column and use np.select to assign values to it using our lists as arguments\n",
        "df_new_backup['poolid'] = np.select(conditions, poolid)\n",
        "\n",
        "# display updated DataFrame\n",
        "df_new_backup"
      ],
      "metadata": {
        "id": "mR7UKK-aPotJ",
        "colab": {
          "base_uri": "https://localhost:8080/",
          "height": 424
        },
        "outputId": "38cf23de-4ebc-419b-bf02-155a32fd7120"
      },
      "execution_count": null,
      "outputs": [
        {
          "output_type": "execute_result",
          "data": {
            "text/plain": [
              "      loan_sequence_number  report_month  current_UPB  loan_age  \\\n",
              "0             F10Q20000001        201005    244000.00         0   \n",
              "1             F10Q20000001        201006    244000.00         1   \n",
              "2             F10Q20000001        201007    244000.00         2   \n",
              "3             F10Q20000001        201008    243000.00         3   \n",
              "4             F10Q20000001        201009    243000.00         4   \n",
              "...                    ...           ...          ...       ...   \n",
              "49995         F10Q10000766        201102    261001.39        12   \n",
              "49996         F10Q10000766        201103    260659.31        13   \n",
              "49997         F10Q10000766        201104    260315.84        14   \n",
              "49998         F10Q10000766        201105    259970.97        15   \n",
              "49999         F10Q10000766        201106    259624.70        16   \n",
              "\n",
              "       months_to_maturity  current_interest_rate  credit_score  \\\n",
              "0                     360                  5.000           753   \n",
              "1                     359                  5.000           753   \n",
              "2                     358                  5.000           753   \n",
              "3                     357                  5.000           753   \n",
              "4                     356                  5.000           753   \n",
              "...                   ...                    ...           ...   \n",
              "49995                 348                  4.875           799   \n",
              "49996                 347                  4.875           799   \n",
              "49997                 346                  4.875           799   \n",
              "49998                 345                  4.875           799   \n",
              "49999                 344                  4.875           799   \n",
              "\n",
              "      occupancy_status  orig_DTI  orig_UPB  ...  year  quarter report_year  \\\n",
              "0                    P       999    244000  ...  2010        2        2010   \n",
              "1                    P       999    244000  ...  2010        2        2010   \n",
              "2                    P       999    244000  ...  2010        2        2010   \n",
              "3                    P       999    244000  ...  2010        2        2010   \n",
              "4                    P       999    244000  ...  2010        2        2010   \n",
              "...                ...       ...       ...  ...   ...      ...         ...   \n",
              "49995                P        14    265000  ...  2010        1        2011   \n",
              "49996                P        14    265000  ...  2010        1        2011   \n",
              "49997                P        14    265000  ...  2010        1        2011   \n",
              "49998                P        14    265000  ...  2010        1        2011   \n",
              "49999                P        14    265000  ...  2010        1        2011   \n",
              "\n",
              "          hpi       hpa  mtg_rate  unemp_rate  month   region  poolid  \n",
              "0      313.78 -4.532746      4.78         9.6      5  Midwest       0  \n",
              "1      313.78 -4.532746      4.69         9.4      6  Midwest       0  \n",
              "2      313.78 -4.532746      4.54         9.4      7  Midwest       0  \n",
              "3      317.06  4.247293      4.36         9.5      8  Midwest       0  \n",
              "4      317.06  4.247293      4.32         9.5      9  Midwest       0  \n",
              "...       ...       ...       ...         ...    ...      ...     ...  \n",
              "49995  295.27 -8.559801      4.95         9.0      2  Midwest       0  \n",
              "49996  295.27 -8.559801      4.86         9.0      3  Midwest       0  \n",
              "49997  290.39 -6.448807      4.78         9.1      4  Midwest       0  \n",
              "49998  290.39 -6.448807      4.60         9.0      5  Midwest       0  \n",
              "49999  290.39 -6.448807      4.51         9.1      6  Midwest       0  \n",
              "\n",
              "[940331 rows x 25 columns]"
            ],
            "text/html": [
              "\n",
              "  <div id=\"df-b27f4301-62ac-4bbd-a64e-3b5efd63213c\">\n",
              "    <div class=\"colab-df-container\">\n",
              "      <div>\n",
              "<style scoped>\n",
              "    .dataframe tbody tr th:only-of-type {\n",
              "        vertical-align: middle;\n",
              "    }\n",
              "\n",
              "    .dataframe tbody tr th {\n",
              "        vertical-align: top;\n",
              "    }\n",
              "\n",
              "    .dataframe thead th {\n",
              "        text-align: right;\n",
              "    }\n",
              "</style>\n",
              "<table border=\"1\" class=\"dataframe\">\n",
              "  <thead>\n",
              "    <tr style=\"text-align: right;\">\n",
              "      <th></th>\n",
              "      <th>loan_sequence_number</th>\n",
              "      <th>report_month</th>\n",
              "      <th>current_UPB</th>\n",
              "      <th>loan_age</th>\n",
              "      <th>months_to_maturity</th>\n",
              "      <th>current_interest_rate</th>\n",
              "      <th>credit_score</th>\n",
              "      <th>occupancy_status</th>\n",
              "      <th>orig_DTI</th>\n",
              "      <th>orig_UPB</th>\n",
              "      <th>...</th>\n",
              "      <th>year</th>\n",
              "      <th>quarter</th>\n",
              "      <th>report_year</th>\n",
              "      <th>hpi</th>\n",
              "      <th>hpa</th>\n",
              "      <th>mtg_rate</th>\n",
              "      <th>unemp_rate</th>\n",
              "      <th>month</th>\n",
              "      <th>region</th>\n",
              "      <th>poolid</th>\n",
              "    </tr>\n",
              "  </thead>\n",
              "  <tbody>\n",
              "    <tr>\n",
              "      <th>0</th>\n",
              "      <td>F10Q20000001</td>\n",
              "      <td>201005</td>\n",
              "      <td>244000.00</td>\n",
              "      <td>0</td>\n",
              "      <td>360</td>\n",
              "      <td>5.000</td>\n",
              "      <td>753</td>\n",
              "      <td>P</td>\n",
              "      <td>999</td>\n",
              "      <td>244000</td>\n",
              "      <td>...</td>\n",
              "      <td>2010</td>\n",
              "      <td>2</td>\n",
              "      <td>2010</td>\n",
              "      <td>313.78</td>\n",
              "      <td>-4.532746</td>\n",
              "      <td>4.78</td>\n",
              "      <td>9.6</td>\n",
              "      <td>5</td>\n",
              "      <td>Midwest</td>\n",
              "      <td>0</td>\n",
              "    </tr>\n",
              "    <tr>\n",
              "      <th>1</th>\n",
              "      <td>F10Q20000001</td>\n",
              "      <td>201006</td>\n",
              "      <td>244000.00</td>\n",
              "      <td>1</td>\n",
              "      <td>359</td>\n",
              "      <td>5.000</td>\n",
              "      <td>753</td>\n",
              "      <td>P</td>\n",
              "      <td>999</td>\n",
              "      <td>244000</td>\n",
              "      <td>...</td>\n",
              "      <td>2010</td>\n",
              "      <td>2</td>\n",
              "      <td>2010</td>\n",
              "      <td>313.78</td>\n",
              "      <td>-4.532746</td>\n",
              "      <td>4.69</td>\n",
              "      <td>9.4</td>\n",
              "      <td>6</td>\n",
              "      <td>Midwest</td>\n",
              "      <td>0</td>\n",
              "    </tr>\n",
              "    <tr>\n",
              "      <th>2</th>\n",
              "      <td>F10Q20000001</td>\n",
              "      <td>201007</td>\n",
              "      <td>244000.00</td>\n",
              "      <td>2</td>\n",
              "      <td>358</td>\n",
              "      <td>5.000</td>\n",
              "      <td>753</td>\n",
              "      <td>P</td>\n",
              "      <td>999</td>\n",
              "      <td>244000</td>\n",
              "      <td>...</td>\n",
              "      <td>2010</td>\n",
              "      <td>2</td>\n",
              "      <td>2010</td>\n",
              "      <td>313.78</td>\n",
              "      <td>-4.532746</td>\n",
              "      <td>4.54</td>\n",
              "      <td>9.4</td>\n",
              "      <td>7</td>\n",
              "      <td>Midwest</td>\n",
              "      <td>0</td>\n",
              "    </tr>\n",
              "    <tr>\n",
              "      <th>3</th>\n",
              "      <td>F10Q20000001</td>\n",
              "      <td>201008</td>\n",
              "      <td>243000.00</td>\n",
              "      <td>3</td>\n",
              "      <td>357</td>\n",
              "      <td>5.000</td>\n",
              "      <td>753</td>\n",
              "      <td>P</td>\n",
              "      <td>999</td>\n",
              "      <td>244000</td>\n",
              "      <td>...</td>\n",
              "      <td>2010</td>\n",
              "      <td>2</td>\n",
              "      <td>2010</td>\n",
              "      <td>317.06</td>\n",
              "      <td>4.247293</td>\n",
              "      <td>4.36</td>\n",
              "      <td>9.5</td>\n",
              "      <td>8</td>\n",
              "      <td>Midwest</td>\n",
              "      <td>0</td>\n",
              "    </tr>\n",
              "    <tr>\n",
              "      <th>4</th>\n",
              "      <td>F10Q20000001</td>\n",
              "      <td>201009</td>\n",
              "      <td>243000.00</td>\n",
              "      <td>4</td>\n",
              "      <td>356</td>\n",
              "      <td>5.000</td>\n",
              "      <td>753</td>\n",
              "      <td>P</td>\n",
              "      <td>999</td>\n",
              "      <td>244000</td>\n",
              "      <td>...</td>\n",
              "      <td>2010</td>\n",
              "      <td>2</td>\n",
              "      <td>2010</td>\n",
              "      <td>317.06</td>\n",
              "      <td>4.247293</td>\n",
              "      <td>4.32</td>\n",
              "      <td>9.5</td>\n",
              "      <td>9</td>\n",
              "      <td>Midwest</td>\n",
              "      <td>0</td>\n",
              "    </tr>\n",
              "    <tr>\n",
              "      <th>...</th>\n",
              "      <td>...</td>\n",
              "      <td>...</td>\n",
              "      <td>...</td>\n",
              "      <td>...</td>\n",
              "      <td>...</td>\n",
              "      <td>...</td>\n",
              "      <td>...</td>\n",
              "      <td>...</td>\n",
              "      <td>...</td>\n",
              "      <td>...</td>\n",
              "      <td>...</td>\n",
              "      <td>...</td>\n",
              "      <td>...</td>\n",
              "      <td>...</td>\n",
              "      <td>...</td>\n",
              "      <td>...</td>\n",
              "      <td>...</td>\n",
              "      <td>...</td>\n",
              "      <td>...</td>\n",
              "      <td>...</td>\n",
              "      <td>...</td>\n",
              "    </tr>\n",
              "    <tr>\n",
              "      <th>49995</th>\n",
              "      <td>F10Q10000766</td>\n",
              "      <td>201102</td>\n",
              "      <td>261001.39</td>\n",
              "      <td>12</td>\n",
              "      <td>348</td>\n",
              "      <td>4.875</td>\n",
              "      <td>799</td>\n",
              "      <td>P</td>\n",
              "      <td>14</td>\n",
              "      <td>265000</td>\n",
              "      <td>...</td>\n",
              "      <td>2010</td>\n",
              "      <td>1</td>\n",
              "      <td>2011</td>\n",
              "      <td>295.27</td>\n",
              "      <td>-8.559801</td>\n",
              "      <td>4.95</td>\n",
              "      <td>9.0</td>\n",
              "      <td>2</td>\n",
              "      <td>Midwest</td>\n",
              "      <td>0</td>\n",
              "    </tr>\n",
              "    <tr>\n",
              "      <th>49996</th>\n",
              "      <td>F10Q10000766</td>\n",
              "      <td>201103</td>\n",
              "      <td>260659.31</td>\n",
              "      <td>13</td>\n",
              "      <td>347</td>\n",
              "      <td>4.875</td>\n",
              "      <td>799</td>\n",
              "      <td>P</td>\n",
              "      <td>14</td>\n",
              "      <td>265000</td>\n",
              "      <td>...</td>\n",
              "      <td>2010</td>\n",
              "      <td>1</td>\n",
              "      <td>2011</td>\n",
              "      <td>295.27</td>\n",
              "      <td>-8.559801</td>\n",
              "      <td>4.86</td>\n",
              "      <td>9.0</td>\n",
              "      <td>3</td>\n",
              "      <td>Midwest</td>\n",
              "      <td>0</td>\n",
              "    </tr>\n",
              "    <tr>\n",
              "      <th>49997</th>\n",
              "      <td>F10Q10000766</td>\n",
              "      <td>201104</td>\n",
              "      <td>260315.84</td>\n",
              "      <td>14</td>\n",
              "      <td>346</td>\n",
              "      <td>4.875</td>\n",
              "      <td>799</td>\n",
              "      <td>P</td>\n",
              "      <td>14</td>\n",
              "      <td>265000</td>\n",
              "      <td>...</td>\n",
              "      <td>2010</td>\n",
              "      <td>1</td>\n",
              "      <td>2011</td>\n",
              "      <td>290.39</td>\n",
              "      <td>-6.448807</td>\n",
              "      <td>4.78</td>\n",
              "      <td>9.1</td>\n",
              "      <td>4</td>\n",
              "      <td>Midwest</td>\n",
              "      <td>0</td>\n",
              "    </tr>\n",
              "    <tr>\n",
              "      <th>49998</th>\n",
              "      <td>F10Q10000766</td>\n",
              "      <td>201105</td>\n",
              "      <td>259970.97</td>\n",
              "      <td>15</td>\n",
              "      <td>345</td>\n",
              "      <td>4.875</td>\n",
              "      <td>799</td>\n",
              "      <td>P</td>\n",
              "      <td>14</td>\n",
              "      <td>265000</td>\n",
              "      <td>...</td>\n",
              "      <td>2010</td>\n",
              "      <td>1</td>\n",
              "      <td>2011</td>\n",
              "      <td>290.39</td>\n",
              "      <td>-6.448807</td>\n",
              "      <td>4.60</td>\n",
              "      <td>9.0</td>\n",
              "      <td>5</td>\n",
              "      <td>Midwest</td>\n",
              "      <td>0</td>\n",
              "    </tr>\n",
              "    <tr>\n",
              "      <th>49999</th>\n",
              "      <td>F10Q10000766</td>\n",
              "      <td>201106</td>\n",
              "      <td>259624.70</td>\n",
              "      <td>16</td>\n",
              "      <td>344</td>\n",
              "      <td>4.875</td>\n",
              "      <td>799</td>\n",
              "      <td>P</td>\n",
              "      <td>14</td>\n",
              "      <td>265000</td>\n",
              "      <td>...</td>\n",
              "      <td>2010</td>\n",
              "      <td>1</td>\n",
              "      <td>2011</td>\n",
              "      <td>290.39</td>\n",
              "      <td>-6.448807</td>\n",
              "      <td>4.51</td>\n",
              "      <td>9.1</td>\n",
              "      <td>6</td>\n",
              "      <td>Midwest</td>\n",
              "      <td>0</td>\n",
              "    </tr>\n",
              "  </tbody>\n",
              "</table>\n",
              "<p>940331 rows × 25 columns</p>\n",
              "</div>\n",
              "      <button class=\"colab-df-convert\" onclick=\"convertToInteractive('df-b27f4301-62ac-4bbd-a64e-3b5efd63213c')\"\n",
              "              title=\"Convert this dataframe to an interactive table.\"\n",
              "              style=\"display:none;\">\n",
              "        \n",
              "  <svg xmlns=\"http://www.w3.org/2000/svg\" height=\"24px\"viewBox=\"0 0 24 24\"\n",
              "       width=\"24px\">\n",
              "    <path d=\"M0 0h24v24H0V0z\" fill=\"none\"/>\n",
              "    <path d=\"M18.56 5.44l.94 2.06.94-2.06 2.06-.94-2.06-.94-.94-2.06-.94 2.06-2.06.94zm-11 1L8.5 8.5l.94-2.06 2.06-.94-2.06-.94L8.5 2.5l-.94 2.06-2.06.94zm10 10l.94 2.06.94-2.06 2.06-.94-2.06-.94-.94-2.06-.94 2.06-2.06.94z\"/><path d=\"M17.41 7.96l-1.37-1.37c-.4-.4-.92-.59-1.43-.59-.52 0-1.04.2-1.43.59L10.3 9.45l-7.72 7.72c-.78.78-.78 2.05 0 2.83L4 21.41c.39.39.9.59 1.41.59.51 0 1.02-.2 1.41-.59l7.78-7.78 2.81-2.81c.8-.78.8-2.07 0-2.86zM5.41 20L4 18.59l7.72-7.72 1.47 1.35L5.41 20z\"/>\n",
              "  </svg>\n",
              "      </button>\n",
              "      \n",
              "  <style>\n",
              "    .colab-df-container {\n",
              "      display:flex;\n",
              "      flex-wrap:wrap;\n",
              "      gap: 12px;\n",
              "    }\n",
              "\n",
              "    .colab-df-convert {\n",
              "      background-color: #E8F0FE;\n",
              "      border: none;\n",
              "      border-radius: 50%;\n",
              "      cursor: pointer;\n",
              "      display: none;\n",
              "      fill: #1967D2;\n",
              "      height: 32px;\n",
              "      padding: 0 0 0 0;\n",
              "      width: 32px;\n",
              "    }\n",
              "\n",
              "    .colab-df-convert:hover {\n",
              "      background-color: #E2EBFA;\n",
              "      box-shadow: 0px 1px 2px rgba(60, 64, 67, 0.3), 0px 1px 3px 1px rgba(60, 64, 67, 0.15);\n",
              "      fill: #174EA6;\n",
              "    }\n",
              "\n",
              "    [theme=dark] .colab-df-convert {\n",
              "      background-color: #3B4455;\n",
              "      fill: #D2E3FC;\n",
              "    }\n",
              "\n",
              "    [theme=dark] .colab-df-convert:hover {\n",
              "      background-color: #434B5C;\n",
              "      box-shadow: 0px 1px 3px 1px rgba(0, 0, 0, 0.15);\n",
              "      filter: drop-shadow(0px 1px 2px rgba(0, 0, 0, 0.3));\n",
              "      fill: #FFFFFF;\n",
              "    }\n",
              "  </style>\n",
              "\n",
              "      <script>\n",
              "        const buttonEl =\n",
              "          document.querySelector('#df-b27f4301-62ac-4bbd-a64e-3b5efd63213c button.colab-df-convert');\n",
              "        buttonEl.style.display =\n",
              "          google.colab.kernel.accessAllowed ? 'block' : 'none';\n",
              "\n",
              "        async function convertToInteractive(key) {\n",
              "          const element = document.querySelector('#df-b27f4301-62ac-4bbd-a64e-3b5efd63213c');\n",
              "          const dataTable =\n",
              "            await google.colab.kernel.invokeFunction('convertToInteractive',\n",
              "                                                     [key], {});\n",
              "          if (!dataTable) return;\n",
              "\n",
              "          const docLinkHtml = 'Like what you see? Visit the ' +\n",
              "            '<a target=\"_blank\" href=https://colab.research.google.com/notebooks/data_table.ipynb>data table notebook</a>'\n",
              "            + ' to learn more about interactive tables.';\n",
              "          element.innerHTML = '';\n",
              "          dataTable['output_type'] = 'display_data';\n",
              "          await google.colab.output.renderOutput(dataTable, element);\n",
              "          const docLink = document.createElement('div');\n",
              "          docLink.innerHTML = docLinkHtml;\n",
              "          element.appendChild(docLink);\n",
              "        }\n",
              "      </script>\n",
              "    </div>\n",
              "  </div>\n",
              "  "
            ]
          },
          "metadata": {},
          "execution_count": 16
        }
      ]
    },
    {
      "cell_type": "code",
      "source": [
        "df_new_backup = df_new_backup.loc[df_new_backup['poolid'] != 0]  # hvordan slipper jeg uden at skulle fjerne en hel del observationer"
      ],
      "metadata": {
        "id": "oGa_ktIRvodU"
      },
      "execution_count": null,
      "outputs": []
    },
    {
      "cell_type": "markdown",
      "source": [
        "# Doing payment variables"
      ],
      "metadata": {
        "id": "naOtEEg4X3rH"
      }
    },
    {
      "cell_type": "markdown",
      "source": [
        "Shifting the current unpaid balance"
      ],
      "metadata": {
        "id": "30Rf0ER1IXTj"
      }
    },
    {
      "cell_type": "code",
      "source": [
        "df_new_backup['current_UPB_shifted'] = df_new_backup.groupby(['loan_sequence_number'])['current_UPB'].shift(1)"
      ],
      "metadata": {
        "id": "O8lYIZlzieEw"
      },
      "execution_count": null,
      "outputs": []
    },
    {
      "cell_type": "code",
      "source": [
        "df_new_backup = df_new_backup.dropna()"
      ],
      "metadata": {
        "id": "Z9-2pCjUUXNL"
      },
      "execution_count": null,
      "outputs": []
    },
    {
      "cell_type": "markdown",
      "source": [
        "## Payment Actual"
      ],
      "metadata": {
        "id": "gVe9nTHGJxA8"
      }
    },
    {
      "cell_type": "markdown",
      "source": [
        "Her skal der laves følgende beregning \n",
        "\n",
        "\n",
        "\n",
        "PP^ACT = \\P_{t-1)-P_t\\\n",
        "\n",
        "Dog skal det sker for hvert individuelt låneneummer\n",
        "\n",
        "Her er P = current_UPB  (current unpaid balance)\n",
        "\n",
        "\n",
        "\n"
      ],
      "metadata": {
        "id": "omU6Dy8EeRaF"
      }
    },
    {
      "cell_type": "code",
      "source": [
        "df_new_backup['pp_act'] =  df_new_backup['current_UPB_shifted'] - df_new_backup['current_UPB']\n",
        "#df_new = df_new.loc[df_new['pp_act'] >= 0] # adjustment due to data strcuture, which would yield high negative values when loans was repaid in full\n",
        "df_new_backup = df_new_backup.dropna()\n"
      ],
      "metadata": {
        "id": "Fi9pDTcDKTdd"
      },
      "execution_count": null,
      "outputs": []
    },
    {
      "cell_type": "markdown",
      "source": [
        "Checking the dataset"
      ],
      "metadata": {
        "id": "gbVXJ7BjIiBp"
      }
    },
    {
      "cell_type": "code",
      "source": [
        "df_new_backup.loc[df_new_backup['pp_act'] != 0]"
      ],
      "metadata": {
        "id": "0-7CJJgQlkC8",
        "colab": {
          "base_uri": "https://localhost:8080/",
          "height": 424
        },
        "outputId": "cf9e6beb-80fb-4646-b3b9-8274e0bba70a"
      },
      "execution_count": null,
      "outputs": [
        {
          "output_type": "execute_result",
          "data": {
            "text/plain": [
              "      loan_sequence_number  report_month  current_UPB  loan_age  \\\n",
              "1181          F11Q10000022        201110     44591.92         7   \n",
              "1182          F11Q10000022        201111     44543.42         8   \n",
              "1183          F11Q10000022        201112     44494.69         9   \n",
              "1184          F11Q10000022        201201     44445.72        10   \n",
              "1185          F11Q10000022        201202     44396.52        11   \n",
              "...                    ...           ...          ...       ...   \n",
              "49552         F20Q40003695        202012    216000.00         1   \n",
              "49647         F20Q40003702        202012    297000.00         1   \n",
              "49697         F20Q40003706        202012    338000.00         1   \n",
              "49778         F20Q40003712        202012    387000.00         1   \n",
              "49820         F20Q40003715        202012    125000.00         1   \n",
              "\n",
              "       months_to_maturity  current_interest_rate  credit_score  \\\n",
              "1181                  353                  5.750           796   \n",
              "1182                  352                  5.750           796   \n",
              "1183                  351                  5.750           796   \n",
              "1184                  350                  5.750           796   \n",
              "1185                  349                  5.750           796   \n",
              "...                   ...                    ...           ...   \n",
              "49552                 359                  2.500           808   \n",
              "49647                 359                  2.990           741   \n",
              "49697                 359                  3.000           788   \n",
              "49778                 359                  2.875           756   \n",
              "49820                 359                  3.000           721   \n",
              "\n",
              "      occupancy_status  orig_DTI  orig_UPB  ...  report_year     hpi  \\\n",
              "1181                 I        37     45000  ...         2011  258.88   \n",
              "1182                 I        37     45000  ...         2011  258.88   \n",
              "1183                 I        37     45000  ...         2011  258.35   \n",
              "1184                 I        37     45000  ...         2012  251.69   \n",
              "1185                 I        37     45000  ...         2012  251.69   \n",
              "...                ...       ...       ...  ...          ...     ...   \n",
              "49552                P        21    217000  ...         2020  721.76   \n",
              "49647                P        25    298000  ...         2020  626.57   \n",
              "49697                P        31    339000  ...         2020  630.06   \n",
              "49778                P        48    388000  ...         2020  394.36   \n",
              "49820                P        36    126000  ...         2020  432.96   \n",
              "\n",
              "             hpa mtg_rate  unemp_rate  month     region  poolid  \\\n",
              "1181    2.367550     4.10         8.8     10      South    1617   \n",
              "1182    2.367550     3.98         8.6     11      South    1617   \n",
              "1183   -0.816401     3.95         8.5     12      South    1617   \n",
              "1184   -9.919668     3.98         8.3      1      South    1617   \n",
              "1185   -9.919668     3.95         8.3      2      South    1617   \n",
              "...          ...      ...         ...    ...        ...     ...   \n",
              "49552  10.510612     2.67         6.7     12       West    1384   \n",
              "49647  14.390318     2.67         6.7     12  Northeast    1373   \n",
              "49697  10.786383     2.67         6.7     12       West    1384   \n",
              "49778   7.671125     2.67         6.7     12    Midwest    1439   \n",
              "49820   9.870585     2.67         6.7     12      South    1362   \n",
              "\n",
              "       current_UPB_shifted   pp_act  \n",
              "1181              45000.00   408.08  \n",
              "1182              44591.92    48.50  \n",
              "1183              44543.42    48.73  \n",
              "1184              44494.69    48.97  \n",
              "1185              44445.72    49.20  \n",
              "...                    ...      ...  \n",
              "49552            217000.00  1000.00  \n",
              "49647            298000.00  1000.00  \n",
              "49697            339000.00  1000.00  \n",
              "49778            388000.00  1000.00  \n",
              "49820            126000.00  1000.00  \n",
              "\n",
              "[488652 rows x 27 columns]"
            ],
            "text/html": [
              "\n",
              "  <div id=\"df-c80bb11b-6649-452a-832a-345e184e6d13\">\n",
              "    <div class=\"colab-df-container\">\n",
              "      <div>\n",
              "<style scoped>\n",
              "    .dataframe tbody tr th:only-of-type {\n",
              "        vertical-align: middle;\n",
              "    }\n",
              "\n",
              "    .dataframe tbody tr th {\n",
              "        vertical-align: top;\n",
              "    }\n",
              "\n",
              "    .dataframe thead th {\n",
              "        text-align: right;\n",
              "    }\n",
              "</style>\n",
              "<table border=\"1\" class=\"dataframe\">\n",
              "  <thead>\n",
              "    <tr style=\"text-align: right;\">\n",
              "      <th></th>\n",
              "      <th>loan_sequence_number</th>\n",
              "      <th>report_month</th>\n",
              "      <th>current_UPB</th>\n",
              "      <th>loan_age</th>\n",
              "      <th>months_to_maturity</th>\n",
              "      <th>current_interest_rate</th>\n",
              "      <th>credit_score</th>\n",
              "      <th>occupancy_status</th>\n",
              "      <th>orig_DTI</th>\n",
              "      <th>orig_UPB</th>\n",
              "      <th>...</th>\n",
              "      <th>report_year</th>\n",
              "      <th>hpi</th>\n",
              "      <th>hpa</th>\n",
              "      <th>mtg_rate</th>\n",
              "      <th>unemp_rate</th>\n",
              "      <th>month</th>\n",
              "      <th>region</th>\n",
              "      <th>poolid</th>\n",
              "      <th>current_UPB_shifted</th>\n",
              "      <th>pp_act</th>\n",
              "    </tr>\n",
              "  </thead>\n",
              "  <tbody>\n",
              "    <tr>\n",
              "      <th>1181</th>\n",
              "      <td>F11Q10000022</td>\n",
              "      <td>201110</td>\n",
              "      <td>44591.92</td>\n",
              "      <td>7</td>\n",
              "      <td>353</td>\n",
              "      <td>5.750</td>\n",
              "      <td>796</td>\n",
              "      <td>I</td>\n",
              "      <td>37</td>\n",
              "      <td>45000</td>\n",
              "      <td>...</td>\n",
              "      <td>2011</td>\n",
              "      <td>258.88</td>\n",
              "      <td>2.367550</td>\n",
              "      <td>4.10</td>\n",
              "      <td>8.8</td>\n",
              "      <td>10</td>\n",
              "      <td>South</td>\n",
              "      <td>1617</td>\n",
              "      <td>45000.00</td>\n",
              "      <td>408.08</td>\n",
              "    </tr>\n",
              "    <tr>\n",
              "      <th>1182</th>\n",
              "      <td>F11Q10000022</td>\n",
              "      <td>201111</td>\n",
              "      <td>44543.42</td>\n",
              "      <td>8</td>\n",
              "      <td>352</td>\n",
              "      <td>5.750</td>\n",
              "      <td>796</td>\n",
              "      <td>I</td>\n",
              "      <td>37</td>\n",
              "      <td>45000</td>\n",
              "      <td>...</td>\n",
              "      <td>2011</td>\n",
              "      <td>258.88</td>\n",
              "      <td>2.367550</td>\n",
              "      <td>3.98</td>\n",
              "      <td>8.6</td>\n",
              "      <td>11</td>\n",
              "      <td>South</td>\n",
              "      <td>1617</td>\n",
              "      <td>44591.92</td>\n",
              "      <td>48.50</td>\n",
              "    </tr>\n",
              "    <tr>\n",
              "      <th>1183</th>\n",
              "      <td>F11Q10000022</td>\n",
              "      <td>201112</td>\n",
              "      <td>44494.69</td>\n",
              "      <td>9</td>\n",
              "      <td>351</td>\n",
              "      <td>5.750</td>\n",
              "      <td>796</td>\n",
              "      <td>I</td>\n",
              "      <td>37</td>\n",
              "      <td>45000</td>\n",
              "      <td>...</td>\n",
              "      <td>2011</td>\n",
              "      <td>258.35</td>\n",
              "      <td>-0.816401</td>\n",
              "      <td>3.95</td>\n",
              "      <td>8.5</td>\n",
              "      <td>12</td>\n",
              "      <td>South</td>\n",
              "      <td>1617</td>\n",
              "      <td>44543.42</td>\n",
              "      <td>48.73</td>\n",
              "    </tr>\n",
              "    <tr>\n",
              "      <th>1184</th>\n",
              "      <td>F11Q10000022</td>\n",
              "      <td>201201</td>\n",
              "      <td>44445.72</td>\n",
              "      <td>10</td>\n",
              "      <td>350</td>\n",
              "      <td>5.750</td>\n",
              "      <td>796</td>\n",
              "      <td>I</td>\n",
              "      <td>37</td>\n",
              "      <td>45000</td>\n",
              "      <td>...</td>\n",
              "      <td>2012</td>\n",
              "      <td>251.69</td>\n",
              "      <td>-9.919668</td>\n",
              "      <td>3.98</td>\n",
              "      <td>8.3</td>\n",
              "      <td>1</td>\n",
              "      <td>South</td>\n",
              "      <td>1617</td>\n",
              "      <td>44494.69</td>\n",
              "      <td>48.97</td>\n",
              "    </tr>\n",
              "    <tr>\n",
              "      <th>1185</th>\n",
              "      <td>F11Q10000022</td>\n",
              "      <td>201202</td>\n",
              "      <td>44396.52</td>\n",
              "      <td>11</td>\n",
              "      <td>349</td>\n",
              "      <td>5.750</td>\n",
              "      <td>796</td>\n",
              "      <td>I</td>\n",
              "      <td>37</td>\n",
              "      <td>45000</td>\n",
              "      <td>...</td>\n",
              "      <td>2012</td>\n",
              "      <td>251.69</td>\n",
              "      <td>-9.919668</td>\n",
              "      <td>3.95</td>\n",
              "      <td>8.3</td>\n",
              "      <td>2</td>\n",
              "      <td>South</td>\n",
              "      <td>1617</td>\n",
              "      <td>44445.72</td>\n",
              "      <td>49.20</td>\n",
              "    </tr>\n",
              "    <tr>\n",
              "      <th>...</th>\n",
              "      <td>...</td>\n",
              "      <td>...</td>\n",
              "      <td>...</td>\n",
              "      <td>...</td>\n",
              "      <td>...</td>\n",
              "      <td>...</td>\n",
              "      <td>...</td>\n",
              "      <td>...</td>\n",
              "      <td>...</td>\n",
              "      <td>...</td>\n",
              "      <td>...</td>\n",
              "      <td>...</td>\n",
              "      <td>...</td>\n",
              "      <td>...</td>\n",
              "      <td>...</td>\n",
              "      <td>...</td>\n",
              "      <td>...</td>\n",
              "      <td>...</td>\n",
              "      <td>...</td>\n",
              "      <td>...</td>\n",
              "      <td>...</td>\n",
              "    </tr>\n",
              "    <tr>\n",
              "      <th>49552</th>\n",
              "      <td>F20Q40003695</td>\n",
              "      <td>202012</td>\n",
              "      <td>216000.00</td>\n",
              "      <td>1</td>\n",
              "      <td>359</td>\n",
              "      <td>2.500</td>\n",
              "      <td>808</td>\n",
              "      <td>P</td>\n",
              "      <td>21</td>\n",
              "      <td>217000</td>\n",
              "      <td>...</td>\n",
              "      <td>2020</td>\n",
              "      <td>721.76</td>\n",
              "      <td>10.510612</td>\n",
              "      <td>2.67</td>\n",
              "      <td>6.7</td>\n",
              "      <td>12</td>\n",
              "      <td>West</td>\n",
              "      <td>1384</td>\n",
              "      <td>217000.00</td>\n",
              "      <td>1000.00</td>\n",
              "    </tr>\n",
              "    <tr>\n",
              "      <th>49647</th>\n",
              "      <td>F20Q40003702</td>\n",
              "      <td>202012</td>\n",
              "      <td>297000.00</td>\n",
              "      <td>1</td>\n",
              "      <td>359</td>\n",
              "      <td>2.990</td>\n",
              "      <td>741</td>\n",
              "      <td>P</td>\n",
              "      <td>25</td>\n",
              "      <td>298000</td>\n",
              "      <td>...</td>\n",
              "      <td>2020</td>\n",
              "      <td>626.57</td>\n",
              "      <td>14.390318</td>\n",
              "      <td>2.67</td>\n",
              "      <td>6.7</td>\n",
              "      <td>12</td>\n",
              "      <td>Northeast</td>\n",
              "      <td>1373</td>\n",
              "      <td>298000.00</td>\n",
              "      <td>1000.00</td>\n",
              "    </tr>\n",
              "    <tr>\n",
              "      <th>49697</th>\n",
              "      <td>F20Q40003706</td>\n",
              "      <td>202012</td>\n",
              "      <td>338000.00</td>\n",
              "      <td>1</td>\n",
              "      <td>359</td>\n",
              "      <td>3.000</td>\n",
              "      <td>788</td>\n",
              "      <td>P</td>\n",
              "      <td>31</td>\n",
              "      <td>339000</td>\n",
              "      <td>...</td>\n",
              "      <td>2020</td>\n",
              "      <td>630.06</td>\n",
              "      <td>10.786383</td>\n",
              "      <td>2.67</td>\n",
              "      <td>6.7</td>\n",
              "      <td>12</td>\n",
              "      <td>West</td>\n",
              "      <td>1384</td>\n",
              "      <td>339000.00</td>\n",
              "      <td>1000.00</td>\n",
              "    </tr>\n",
              "    <tr>\n",
              "      <th>49778</th>\n",
              "      <td>F20Q40003712</td>\n",
              "      <td>202012</td>\n",
              "      <td>387000.00</td>\n",
              "      <td>1</td>\n",
              "      <td>359</td>\n",
              "      <td>2.875</td>\n",
              "      <td>756</td>\n",
              "      <td>P</td>\n",
              "      <td>48</td>\n",
              "      <td>388000</td>\n",
              "      <td>...</td>\n",
              "      <td>2020</td>\n",
              "      <td>394.36</td>\n",
              "      <td>7.671125</td>\n",
              "      <td>2.67</td>\n",
              "      <td>6.7</td>\n",
              "      <td>12</td>\n",
              "      <td>Midwest</td>\n",
              "      <td>1439</td>\n",
              "      <td>388000.00</td>\n",
              "      <td>1000.00</td>\n",
              "    </tr>\n",
              "    <tr>\n",
              "      <th>49820</th>\n",
              "      <td>F20Q40003715</td>\n",
              "      <td>202012</td>\n",
              "      <td>125000.00</td>\n",
              "      <td>1</td>\n",
              "      <td>359</td>\n",
              "      <td>3.000</td>\n",
              "      <td>721</td>\n",
              "      <td>P</td>\n",
              "      <td>36</td>\n",
              "      <td>126000</td>\n",
              "      <td>...</td>\n",
              "      <td>2020</td>\n",
              "      <td>432.96</td>\n",
              "      <td>9.870585</td>\n",
              "      <td>2.67</td>\n",
              "      <td>6.7</td>\n",
              "      <td>12</td>\n",
              "      <td>South</td>\n",
              "      <td>1362</td>\n",
              "      <td>126000.00</td>\n",
              "      <td>1000.00</td>\n",
              "    </tr>\n",
              "  </tbody>\n",
              "</table>\n",
              "<p>488652 rows × 27 columns</p>\n",
              "</div>\n",
              "      <button class=\"colab-df-convert\" onclick=\"convertToInteractive('df-c80bb11b-6649-452a-832a-345e184e6d13')\"\n",
              "              title=\"Convert this dataframe to an interactive table.\"\n",
              "              style=\"display:none;\">\n",
              "        \n",
              "  <svg xmlns=\"http://www.w3.org/2000/svg\" height=\"24px\"viewBox=\"0 0 24 24\"\n",
              "       width=\"24px\">\n",
              "    <path d=\"M0 0h24v24H0V0z\" fill=\"none\"/>\n",
              "    <path d=\"M18.56 5.44l.94 2.06.94-2.06 2.06-.94-2.06-.94-.94-2.06-.94 2.06-2.06.94zm-11 1L8.5 8.5l.94-2.06 2.06-.94-2.06-.94L8.5 2.5l-.94 2.06-2.06.94zm10 10l.94 2.06.94-2.06 2.06-.94-2.06-.94-.94-2.06-.94 2.06-2.06.94z\"/><path d=\"M17.41 7.96l-1.37-1.37c-.4-.4-.92-.59-1.43-.59-.52 0-1.04.2-1.43.59L10.3 9.45l-7.72 7.72c-.78.78-.78 2.05 0 2.83L4 21.41c.39.39.9.59 1.41.59.51 0 1.02-.2 1.41-.59l7.78-7.78 2.81-2.81c.8-.78.8-2.07 0-2.86zM5.41 20L4 18.59l7.72-7.72 1.47 1.35L5.41 20z\"/>\n",
              "  </svg>\n",
              "      </button>\n",
              "      \n",
              "  <style>\n",
              "    .colab-df-container {\n",
              "      display:flex;\n",
              "      flex-wrap:wrap;\n",
              "      gap: 12px;\n",
              "    }\n",
              "\n",
              "    .colab-df-convert {\n",
              "      background-color: #E8F0FE;\n",
              "      border: none;\n",
              "      border-radius: 50%;\n",
              "      cursor: pointer;\n",
              "      display: none;\n",
              "      fill: #1967D2;\n",
              "      height: 32px;\n",
              "      padding: 0 0 0 0;\n",
              "      width: 32px;\n",
              "    }\n",
              "\n",
              "    .colab-df-convert:hover {\n",
              "      background-color: #E2EBFA;\n",
              "      box-shadow: 0px 1px 2px rgba(60, 64, 67, 0.3), 0px 1px 3px 1px rgba(60, 64, 67, 0.15);\n",
              "      fill: #174EA6;\n",
              "    }\n",
              "\n",
              "    [theme=dark] .colab-df-convert {\n",
              "      background-color: #3B4455;\n",
              "      fill: #D2E3FC;\n",
              "    }\n",
              "\n",
              "    [theme=dark] .colab-df-convert:hover {\n",
              "      background-color: #434B5C;\n",
              "      box-shadow: 0px 1px 3px 1px rgba(0, 0, 0, 0.15);\n",
              "      filter: drop-shadow(0px 1px 2px rgba(0, 0, 0, 0.3));\n",
              "      fill: #FFFFFF;\n",
              "    }\n",
              "  </style>\n",
              "\n",
              "      <script>\n",
              "        const buttonEl =\n",
              "          document.querySelector('#df-c80bb11b-6649-452a-832a-345e184e6d13 button.colab-df-convert');\n",
              "        buttonEl.style.display =\n",
              "          google.colab.kernel.accessAllowed ? 'block' : 'none';\n",
              "\n",
              "        async function convertToInteractive(key) {\n",
              "          const element = document.querySelector('#df-c80bb11b-6649-452a-832a-345e184e6d13');\n",
              "          const dataTable =\n",
              "            await google.colab.kernel.invokeFunction('convertToInteractive',\n",
              "                                                     [key], {});\n",
              "          if (!dataTable) return;\n",
              "\n",
              "          const docLinkHtml = 'Like what you see? Visit the ' +\n",
              "            '<a target=\"_blank\" href=https://colab.research.google.com/notebooks/data_table.ipynb>data table notebook</a>'\n",
              "            + ' to learn more about interactive tables.';\n",
              "          element.innerHTML = '';\n",
              "          dataTable['output_type'] = 'display_data';\n",
              "          await google.colab.output.renderOutput(dataTable, element);\n",
              "          const docLink = document.createElement('div');\n",
              "          docLink.innerHTML = docLinkHtml;\n",
              "          element.appendChild(docLink);\n",
              "        }\n",
              "      </script>\n",
              "    </div>\n",
              "  </div>\n",
              "  "
            ]
          },
          "metadata": {},
          "execution_count": 21
        }
      ]
    },
    {
      "cell_type": "markdown",
      "source": [
        "## Expected payments\n",
        "beskrivelsen kan findes her [Expcted payments](https://ibb.co/yy5gscd)"
      ],
      "metadata": {
        "id": "x3e14JCffAYA"
      }
    },
    {
      "cell_type": "code",
      "source": [
        "# Expected prepayments\n",
        "#Annuity payment\n",
        "import numpy as np\n",
        "\n",
        "def AP(P0, r, n):\n",
        "      rate_pct = r/100\n",
        "      periods = n\n",
        "      temp1 = rate_pct*P0\n",
        "      temp2 = 1-np.power(1+rate_pct, -periods)\n",
        "\n",
        "      return temp1/temp2\n",
        "\n",
        "def pp_exp(P0, Pt, r, n):\n",
        "     return AP(P0, r, n) - (r/100 * Pt)\n",
        "\n",
        "df_new_backup['pp_ext'] = pp_exp(df_new_backup['orig_UPB'],df_new_backup['current_UPB_shifted'], df_new_backup['current_interest_rate'], df_new_backup['months_to_maturity'])"
      ],
      "metadata": {
        "id": "XajgBqxY0PYn"
      },
      "execution_count": null,
      "outputs": []
    },
    {
      "cell_type": "code",
      "source": [
        "df_new_backup['prp'] = df_new_backup['pp_act'] - df_new_backup['pp_ext']"
      ],
      "metadata": {
        "id": "YTSdOSW_6jpG"
      },
      "execution_count": null,
      "outputs": []
    },
    {
      "cell_type": "code",
      "source": [
        "df_new_backup = df_new_backup.dropna() # dropping nans"
      ],
      "metadata": {
        "id": "yftehTtiTlCE"
      },
      "execution_count": null,
      "outputs": []
    },
    {
      "cell_type": "markdown",
      "source": [
        "## Single Month Mortality"
      ],
      "metadata": {
        "id": "Mo3AhIcPKNrQ"
      }
    },
    {
      "cell_type": "markdown",
      "source": [
        "Creating a sum of prp"
      ],
      "metadata": {
        "id": "VC8wYzjeOH0p"
      }
    },
    {
      "cell_type": "code",
      "source": [
        "df_new_backup['prp_sum'] = df_new_backup.groupby(['poolid', 'report_year', 'month'])['prp'].transform('sum')"
      ],
      "metadata": {
        "id": "GRN0jAy5OD-D"
      },
      "execution_count": null,
      "outputs": []
    },
    {
      "cell_type": "markdown",
      "source": [
        "Creating a sum of past unpaid balance"
      ],
      "metadata": {
        "id": "2Q4lv70-OemC"
      }
    },
    {
      "cell_type": "code",
      "source": [
        "df_new_backup['UBP_shift_sum'] = df_new_backup.groupby(['poolid', 'report_year', 'month'])['current_UPB_shifted'].transform('sum')"
      ],
      "metadata": {
        "id": "ej9udvkrOeRy"
      },
      "execution_count": null,
      "outputs": []
    },
    {
      "cell_type": "markdown",
      "source": [
        "Calcuating SMM"
      ],
      "metadata": {
        "id": "_cguUEUTOrEn"
      }
    },
    {
      "cell_type": "code",
      "source": [
        "df_new_backup['SMM'] = (df_new_backup['prp_sum'] / df_new_backup['UBP_shift_sum']).clip(lower=0) # SMM"
      ],
      "metadata": {
        "id": "LtU7Ei83OiHk"
      },
      "execution_count": null,
      "outputs": []
    },
    {
      "cell_type": "markdown",
      "source": [
        "Doing CPR calculations"
      ],
      "metadata": {
        "id": "PfXaviTLO3xa"
      }
    },
    {
      "cell_type": "code",
      "source": [
        "df_new_backup['CPR']  = 1-np.power(1-df_new_backup['SMM'], 12)"
      ],
      "metadata": {
        "id": "ky-VOzeIO723"
      },
      "execution_count": null,
      "outputs": []
    },
    {
      "cell_type": "markdown",
      "source": [
        "Should be good here, lets see the dataframe"
      ],
      "metadata": {
        "id": "u5wQtAQLPEFB"
      }
    },
    {
      "cell_type": "code",
      "source": [
        "df_new_backup.loc[df_new_backup['loan_sequence_number'] == 'F11Q10000022'].groupby(['loan_sequence_number','property_state', 'report_month'])['hpi'].mean()"
      ],
      "metadata": {
        "id": "JS-_9Cj6OiMB",
        "colab": {
          "base_uri": "https://localhost:8080/"
        },
        "outputId": "b3c615e3-6d40-4af0-b018-aae9ea33dc36"
      },
      "execution_count": null,
      "outputs": [
        {
          "output_type": "execute_result",
          "data": {
            "text/plain": [
              "loan_sequence_number  property_state  report_month\n",
              "F11Q10000022          GA              201104          257.37\n",
              "                                      201105          257.37\n",
              "                                      201106          257.37\n",
              "                                      201107          257.37\n",
              "                                      201108          258.88\n",
              "                                                       ...  \n",
              "                                      201706          333.44\n",
              "                                      201707          333.44\n",
              "                                      201708          338.75\n",
              "                                      201709          338.75\n",
              "                                      201710          338.75\n",
              "Name: hpi, Length: 79, dtype: float64"
            ]
          },
          "metadata": {},
          "execution_count": 29
        }
      ]
    },
    {
      "cell_type": "markdown",
      "source": [
        "# Variable Creation"
      ],
      "metadata": {
        "id": "s2WYCn7hdPzX"
      }
    },
    {
      "cell_type": "markdown",
      "source": [
        "## Interest rate Incentive"
      ],
      "metadata": {
        "id": "D4RlHb0z5KYE"
      }
    },
    {
      "cell_type": "code",
      "source": [
        "#interest rate incentive\n",
        "def interest_incentive(current_rate, market_rate):\n",
        "    return current_rate-market_rate\n",
        "\n",
        "#\n",
        "df_new_backup['incentive'] = interest_incentive(df_new_backup['mtg_rate'], df_new_backup['current_interest_rate'])\n"
      ],
      "metadata": {
        "id": "SejcjxDP4HQo"
      },
      "execution_count": null,
      "outputs": []
    },
    {
      "cell_type": "markdown",
      "source": [
        "## Rolling Interest rate Incentive"
      ],
      "metadata": {
        "id": "xCgeaQQssdTH"
      }
    },
    {
      "cell_type": "code",
      "source": [
        "df_new_backup['rolling'] = df_new_backup.groupby(['loan_sequence_number'])['incentive'].transform(lambda x: x.rolling(24, 1).mean())"
      ],
      "metadata": {
        "id": "XVRfdSm8sgdX"
      },
      "execution_count": null,
      "outputs": []
    },
    {
      "cell_type": "markdown",
      "source": [
        "## Spread at orgination"
      ],
      "metadata": {
        "id": "2rE7jv7P5QHu"
      }
    },
    {
      "cell_type": "code",
      "source": [
        "def SATO(market_rate, orginal_rate):\n",
        "    return orginal_rate-market_rate\n",
        "df_new_backup['SATO'] = SATO(df_new_backup['orig_interest_rate'], df_new_backup['mtg_rate'])\n"
      ],
      "metadata": {
        "id": "sdodCdSc5P2W"
      },
      "execution_count": null,
      "outputs": []
    },
    {
      "cell_type": "markdown",
      "source": [
        "## HPI change"
      ],
      "metadata": {
        "id": "pHOJgOSB00bl"
      }
    },
    {
      "cell_type": "code",
      "source": [
        "df_new_backup['hpi_0'] =df_new_backup.groupby('loan_sequence_number')['hpi'].transform('first')"
      ],
      "metadata": {
        "id": "OYPum1oPBht-"
      },
      "execution_count": null,
      "outputs": []
    },
    {
      "cell_type": "code",
      "source": [
        "df_new_backup['hpi_pct'] = (df_new_backup['hpi'] / df_new_backup['hpi_0'])-1"
      ],
      "metadata": {
        "id": "daGqiDsP_Qrq"
      },
      "execution_count": null,
      "outputs": []
    },
    {
      "cell_type": "markdown",
      "source": [
        "## Cos and Sin Months"
      ],
      "metadata": {
        "id": "BdbYLAnU5XsU"
      }
    },
    {
      "cell_type": "code",
      "source": [
        "import numpy as np\n",
        "df_new_backup['sin_month'] = np.sin(2 * np.pi * df_new_backup['month'].astype(int)*30/360)\n",
        "df_new_backup['cos_month'] = np.cos(2 * np.pi * df_new_backup['month'].astype(int)*30/360)\n"
      ],
      "metadata": {
        "id": "U_G9SJeN5XOf"
      },
      "execution_count": null,
      "outputs": []
    },
    {
      "cell_type": "markdown",
      "source": [
        "## Standard Deviation of Unpaid Balance"
      ],
      "metadata": {
        "id": "-9zVPe0oyhdp"
      }
    },
    {
      "cell_type": "code",
      "source": [
        "df_new_backup['UPB_std'] = df_new_backup.groupby(['loan_sequence_number'])['current_UPB'].transform('std')"
      ],
      "metadata": {
        "id": "_vxsoTLyylAl"
      },
      "execution_count": null,
      "outputs": []
    },
    {
      "cell_type": "markdown",
      "source": [
        "## Standard Deviation of Loan Size"
      ],
      "metadata": {
        "id": "mohPLgAzscha"
      }
    },
    {
      "cell_type": "code",
      "source": [
        "df_new_backup['orig_UPB_std'] = df_new_backup.groupby(['loan_sequence_number'])['orig_UPB'].transform('std')"
      ],
      "metadata": {
        "id": "ACxiW06WzhEe"
      },
      "execution_count": null,
      "outputs": []
    },
    {
      "cell_type": "markdown",
      "source": [
        "# Weigted Average Code"
      ],
      "metadata": {
        "id": "K6sV2hS4N-of"
      }
    },
    {
      "cell_type": "markdown",
      "source": [
        "Creating a weighted average function"
      ],
      "metadata": {
        "id": "YN7ydpKDXvLb"
      }
    },
    {
      "cell_type": "code",
      "source": [
        "def weigted_average(data, key):\n",
        "  temp_df = data[['loan_sequence_number', 'poolid', 'report_year', 'month']]\n",
        "  temp_df['pool_balance'] = data.groupby(['poolid', 'report_year', 'month'])['current_UPB'].transform('sum')\n",
        "  temp_df['wols_P'] =  data[key] * (data['current_UPB']/temp_df['pool_balance'])\n",
        "  temp_df['wa_'+key] = temp_df.groupby(['poolid', 'report_year', 'month'])['wols_P'].transform('sum')\n",
        "  #temp_df.append(temp_df['wa_'+key])\n",
        "  return temp_df['wa_'+key]\n"
      ],
      "metadata": {
        "id": "UjR5WMK0W1jK"
      },
      "execution_count": null,
      "outputs": []
    },
    {
      "cell_type": "markdown",
      "source": [
        "Adding weigthed averages in a loop"
      ],
      "metadata": {
        "id": "b-dOyrKXp2ls"
      }
    },
    {
      "cell_type": "code",
      "source": [
        "keys = ['current_UPB', 'loan_age', 'SATO', 'orig_DTI', 'orig_LTV', 'unemp_rate', 'orig_UPB', 'incentive', 'rolling', 'hpi_pct']\n",
        "\n",
        "for key in keys:\n",
        "  df_new_backup['wa_'+key] = weigted_average(df_new_backup, key)\n",
        "  print(f'Weighted Average for {key} - Done')"
      ],
      "metadata": {
        "id": "CqtnGQtyfw-s",
        "colab": {
          "base_uri": "https://localhost:8080/"
        },
        "outputId": "fde61841-4ffe-4689-85c4-ef903693cfe3"
      },
      "execution_count": null,
      "outputs": [
        {
          "output_type": "stream",
          "name": "stdout",
          "text": [
            "Weighted Average for current_UPB - Done\n",
            "Weighted Average for loan_age - Done\n",
            "Weighted Average for SATO - Done\n",
            "Weighted Average for orig_DTI - Done\n",
            "Weighted Average for orig_LTV - Done\n",
            "Weighted Average for unemp_rate - Done\n",
            "Weighted Average for orig_UPB - Done\n",
            "Weighted Average for incentive - Done\n",
            "Weighted Average for rolling - Done\n",
            "Weighted Average for hpi_pct - Done\n"
          ]
        }
      ]
    },
    {
      "cell_type": "markdown",
      "source": [
        "Lets check the dataframe output"
      ],
      "metadata": {
        "id": "-NzNcVzDr1DS"
      }
    },
    {
      "cell_type": "code",
      "source": [
        "df_new_backup#.loc[(df_new_backup['poolid'] == 1617) & (df_new_backup['report_year'] == 2020) & (df_new_backup['month'] == 12)]"
      ],
      "metadata": {
        "id": "C2E6cgGUidIG",
        "colab": {
          "base_uri": "https://localhost:8080/",
          "height": 424
        },
        "outputId": "141ceaa9-afab-4f5d-95bd-9917067d2254"
      },
      "execution_count": null,
      "outputs": [
        {
          "output_type": "execute_result",
          "data": {
            "text/plain": [
              "      loan_sequence_number  report_month  current_UPB  loan_age  \\\n",
              "1175          F11Q10000022        201104      45000.0         1   \n",
              "1176          F11Q10000022        201105      45000.0         2   \n",
              "1177          F11Q10000022        201106      45000.0         3   \n",
              "1178          F11Q10000022        201107      45000.0         4   \n",
              "1179          F11Q10000022        201108      45000.0         5   \n",
              "...                    ...           ...          ...       ...   \n",
              "49984         F20Q40003727        202012      93000.0         1   \n",
              "29505         F21Q30006434        202109      67000.0         1   \n",
              "29506         F21Q30006434        202110      67000.0         2   \n",
              "29507         F21Q30006434        202111      67000.0         3   \n",
              "29508         F21Q30006434        202112      67000.0         4   \n",
              "\n",
              "       months_to_maturity  current_interest_rate  credit_score  \\\n",
              "1175                  359                  5.750           796   \n",
              "1176                  358                  5.750           796   \n",
              "1177                  357                  5.750           796   \n",
              "1178                  356                  5.750           796   \n",
              "1179                  355                  5.750           796   \n",
              "...                   ...                    ...           ...   \n",
              "49984                 359                  3.000           775   \n",
              "29505                 359                  3.875           706   \n",
              "29506                 358                  3.875           706   \n",
              "29507                 357                  3.875           706   \n",
              "29508                 356                  3.875           706   \n",
              "\n",
              "      occupancy_status  orig_DTI  orig_UPB  ...  wa_current_UPB  wa_loan_age  \\\n",
              "1175                 I        37     45000  ...    56818.181818     1.590909   \n",
              "1176                 I        37     45000  ...    56818.181818     2.590909   \n",
              "1177                 I        37     45000  ...    67572.916667     2.484375   \n",
              "1178                 I        37     45000  ...    67170.542636     2.848837   \n",
              "1179                 I        37     45000  ...    66797.665370     3.852140   \n",
              "...                ...       ...       ...  ...             ...          ...   \n",
              "49984                P        25     93000  ...   111267.718376     5.215721   \n",
              "29505                P        38     67000  ...    67000.000000     1.000000   \n",
              "29506                P        38     67000  ...    67000.000000     2.000000   \n",
              "29507                P        38     67000  ...    67000.000000     3.000000   \n",
              "29508                P        38     67000  ...    67000.000000     4.000000   \n",
              "\n",
              "        wa_SATO wa_orig_DTI  wa_orig_LTV  wa_unemp_rate    wa_orig_UPB  \\\n",
              "1175  -0.970000   35.818182    69.090909            9.1   56818.181818   \n",
              "1176  -1.150000   35.818182    69.090909            9.0   56818.181818   \n",
              "1177  -1.240000   33.760417    71.614583            9.1   67572.916667   \n",
              "1178  -1.200000   31.263566    71.201550            9.0   67170.542636   \n",
              "1179  -1.530000   31.264591    71.186770            9.0   67112.840467   \n",
              "...         ...         ...          ...            ...            ...   \n",
              "49984 -0.625927   30.738850    72.066554            6.7  114741.071259   \n",
              "29505 -0.865000   38.000000    80.000000            4.7   67000.000000   \n",
              "29506 -0.735000   38.000000    80.000000            4.6   67000.000000   \n",
              "29507 -0.775000   38.000000    80.000000            4.2   67000.000000   \n",
              "29508 -0.765000   38.000000    80.000000            3.9   67000.000000   \n",
              "\n",
              "       wa_incentive  wa_rolling  wa_hpi_pct  \n",
              "1175      -0.970000   -0.946364   -0.025148  \n",
              "1176      -1.150000   -1.026515   -0.025148  \n",
              "1177      -1.240000   -1.151784   -0.014408  \n",
              "1178      -1.200000   -1.168178   -0.010722  \n",
              "1179      -1.530000   -1.275123   -0.004960  \n",
              "...             ...         ...         ...  \n",
              "49984     -0.625927   -0.477682    0.022345  \n",
              "29505     -0.865000   -0.865000    0.000000  \n",
              "29506     -0.735000   -0.800000    0.000000  \n",
              "29507     -0.775000   -0.791667    0.000000  \n",
              "29508     -0.765000   -0.785000    0.033637  \n",
              "\n",
              "[579446 rows x 52 columns]"
            ],
            "text/html": [
              "\n",
              "  <div id=\"df-60abe410-c190-404b-8fba-873ed1649cfc\">\n",
              "    <div class=\"colab-df-container\">\n",
              "      <div>\n",
              "<style scoped>\n",
              "    .dataframe tbody tr th:only-of-type {\n",
              "        vertical-align: middle;\n",
              "    }\n",
              "\n",
              "    .dataframe tbody tr th {\n",
              "        vertical-align: top;\n",
              "    }\n",
              "\n",
              "    .dataframe thead th {\n",
              "        text-align: right;\n",
              "    }\n",
              "</style>\n",
              "<table border=\"1\" class=\"dataframe\">\n",
              "  <thead>\n",
              "    <tr style=\"text-align: right;\">\n",
              "      <th></th>\n",
              "      <th>loan_sequence_number</th>\n",
              "      <th>report_month</th>\n",
              "      <th>current_UPB</th>\n",
              "      <th>loan_age</th>\n",
              "      <th>months_to_maturity</th>\n",
              "      <th>current_interest_rate</th>\n",
              "      <th>credit_score</th>\n",
              "      <th>occupancy_status</th>\n",
              "      <th>orig_DTI</th>\n",
              "      <th>orig_UPB</th>\n",
              "      <th>...</th>\n",
              "      <th>wa_current_UPB</th>\n",
              "      <th>wa_loan_age</th>\n",
              "      <th>wa_SATO</th>\n",
              "      <th>wa_orig_DTI</th>\n",
              "      <th>wa_orig_LTV</th>\n",
              "      <th>wa_unemp_rate</th>\n",
              "      <th>wa_orig_UPB</th>\n",
              "      <th>wa_incentive</th>\n",
              "      <th>wa_rolling</th>\n",
              "      <th>wa_hpi_pct</th>\n",
              "    </tr>\n",
              "  </thead>\n",
              "  <tbody>\n",
              "    <tr>\n",
              "      <th>1175</th>\n",
              "      <td>F11Q10000022</td>\n",
              "      <td>201104</td>\n",
              "      <td>45000.0</td>\n",
              "      <td>1</td>\n",
              "      <td>359</td>\n",
              "      <td>5.750</td>\n",
              "      <td>796</td>\n",
              "      <td>I</td>\n",
              "      <td>37</td>\n",
              "      <td>45000</td>\n",
              "      <td>...</td>\n",
              "      <td>56818.181818</td>\n",
              "      <td>1.590909</td>\n",
              "      <td>-0.970000</td>\n",
              "      <td>35.818182</td>\n",
              "      <td>69.090909</td>\n",
              "      <td>9.1</td>\n",
              "      <td>56818.181818</td>\n",
              "      <td>-0.970000</td>\n",
              "      <td>-0.946364</td>\n",
              "      <td>-0.025148</td>\n",
              "    </tr>\n",
              "    <tr>\n",
              "      <th>1176</th>\n",
              "      <td>F11Q10000022</td>\n",
              "      <td>201105</td>\n",
              "      <td>45000.0</td>\n",
              "      <td>2</td>\n",
              "      <td>358</td>\n",
              "      <td>5.750</td>\n",
              "      <td>796</td>\n",
              "      <td>I</td>\n",
              "      <td>37</td>\n",
              "      <td>45000</td>\n",
              "      <td>...</td>\n",
              "      <td>56818.181818</td>\n",
              "      <td>2.590909</td>\n",
              "      <td>-1.150000</td>\n",
              "      <td>35.818182</td>\n",
              "      <td>69.090909</td>\n",
              "      <td>9.0</td>\n",
              "      <td>56818.181818</td>\n",
              "      <td>-1.150000</td>\n",
              "      <td>-1.026515</td>\n",
              "      <td>-0.025148</td>\n",
              "    </tr>\n",
              "    <tr>\n",
              "      <th>1177</th>\n",
              "      <td>F11Q10000022</td>\n",
              "      <td>201106</td>\n",
              "      <td>45000.0</td>\n",
              "      <td>3</td>\n",
              "      <td>357</td>\n",
              "      <td>5.750</td>\n",
              "      <td>796</td>\n",
              "      <td>I</td>\n",
              "      <td>37</td>\n",
              "      <td>45000</td>\n",
              "      <td>...</td>\n",
              "      <td>67572.916667</td>\n",
              "      <td>2.484375</td>\n",
              "      <td>-1.240000</td>\n",
              "      <td>33.760417</td>\n",
              "      <td>71.614583</td>\n",
              "      <td>9.1</td>\n",
              "      <td>67572.916667</td>\n",
              "      <td>-1.240000</td>\n",
              "      <td>-1.151784</td>\n",
              "      <td>-0.014408</td>\n",
              "    </tr>\n",
              "    <tr>\n",
              "      <th>1178</th>\n",
              "      <td>F11Q10000022</td>\n",
              "      <td>201107</td>\n",
              "      <td>45000.0</td>\n",
              "      <td>4</td>\n",
              "      <td>356</td>\n",
              "      <td>5.750</td>\n",
              "      <td>796</td>\n",
              "      <td>I</td>\n",
              "      <td>37</td>\n",
              "      <td>45000</td>\n",
              "      <td>...</td>\n",
              "      <td>67170.542636</td>\n",
              "      <td>2.848837</td>\n",
              "      <td>-1.200000</td>\n",
              "      <td>31.263566</td>\n",
              "      <td>71.201550</td>\n",
              "      <td>9.0</td>\n",
              "      <td>67170.542636</td>\n",
              "      <td>-1.200000</td>\n",
              "      <td>-1.168178</td>\n",
              "      <td>-0.010722</td>\n",
              "    </tr>\n",
              "    <tr>\n",
              "      <th>1179</th>\n",
              "      <td>F11Q10000022</td>\n",
              "      <td>201108</td>\n",
              "      <td>45000.0</td>\n",
              "      <td>5</td>\n",
              "      <td>355</td>\n",
              "      <td>5.750</td>\n",
              "      <td>796</td>\n",
              "      <td>I</td>\n",
              "      <td>37</td>\n",
              "      <td>45000</td>\n",
              "      <td>...</td>\n",
              "      <td>66797.665370</td>\n",
              "      <td>3.852140</td>\n",
              "      <td>-1.530000</td>\n",
              "      <td>31.264591</td>\n",
              "      <td>71.186770</td>\n",
              "      <td>9.0</td>\n",
              "      <td>67112.840467</td>\n",
              "      <td>-1.530000</td>\n",
              "      <td>-1.275123</td>\n",
              "      <td>-0.004960</td>\n",
              "    </tr>\n",
              "    <tr>\n",
              "      <th>...</th>\n",
              "      <td>...</td>\n",
              "      <td>...</td>\n",
              "      <td>...</td>\n",
              "      <td>...</td>\n",
              "      <td>...</td>\n",
              "      <td>...</td>\n",
              "      <td>...</td>\n",
              "      <td>...</td>\n",
              "      <td>...</td>\n",
              "      <td>...</td>\n",
              "      <td>...</td>\n",
              "      <td>...</td>\n",
              "      <td>...</td>\n",
              "      <td>...</td>\n",
              "      <td>...</td>\n",
              "      <td>...</td>\n",
              "      <td>...</td>\n",
              "      <td>...</td>\n",
              "      <td>...</td>\n",
              "      <td>...</td>\n",
              "      <td>...</td>\n",
              "    </tr>\n",
              "    <tr>\n",
              "      <th>49984</th>\n",
              "      <td>F20Q40003727</td>\n",
              "      <td>202012</td>\n",
              "      <td>93000.0</td>\n",
              "      <td>1</td>\n",
              "      <td>359</td>\n",
              "      <td>3.000</td>\n",
              "      <td>775</td>\n",
              "      <td>P</td>\n",
              "      <td>25</td>\n",
              "      <td>93000</td>\n",
              "      <td>...</td>\n",
              "      <td>111267.718376</td>\n",
              "      <td>5.215721</td>\n",
              "      <td>-0.625927</td>\n",
              "      <td>30.738850</td>\n",
              "      <td>72.066554</td>\n",
              "      <td>6.7</td>\n",
              "      <td>114741.071259</td>\n",
              "      <td>-0.625927</td>\n",
              "      <td>-0.477682</td>\n",
              "      <td>0.022345</td>\n",
              "    </tr>\n",
              "    <tr>\n",
              "      <th>29505</th>\n",
              "      <td>F21Q30006434</td>\n",
              "      <td>202109</td>\n",
              "      <td>67000.0</td>\n",
              "      <td>1</td>\n",
              "      <td>359</td>\n",
              "      <td>3.875</td>\n",
              "      <td>706</td>\n",
              "      <td>P</td>\n",
              "      <td>38</td>\n",
              "      <td>67000</td>\n",
              "      <td>...</td>\n",
              "      <td>67000.000000</td>\n",
              "      <td>1.000000</td>\n",
              "      <td>-0.865000</td>\n",
              "      <td>38.000000</td>\n",
              "      <td>80.000000</td>\n",
              "      <td>4.7</td>\n",
              "      <td>67000.000000</td>\n",
              "      <td>-0.865000</td>\n",
              "      <td>-0.865000</td>\n",
              "      <td>0.000000</td>\n",
              "    </tr>\n",
              "    <tr>\n",
              "      <th>29506</th>\n",
              "      <td>F21Q30006434</td>\n",
              "      <td>202110</td>\n",
              "      <td>67000.0</td>\n",
              "      <td>2</td>\n",
              "      <td>358</td>\n",
              "      <td>3.875</td>\n",
              "      <td>706</td>\n",
              "      <td>P</td>\n",
              "      <td>38</td>\n",
              "      <td>67000</td>\n",
              "      <td>...</td>\n",
              "      <td>67000.000000</td>\n",
              "      <td>2.000000</td>\n",
              "      <td>-0.735000</td>\n",
              "      <td>38.000000</td>\n",
              "      <td>80.000000</td>\n",
              "      <td>4.6</td>\n",
              "      <td>67000.000000</td>\n",
              "      <td>-0.735000</td>\n",
              "      <td>-0.800000</td>\n",
              "      <td>0.000000</td>\n",
              "    </tr>\n",
              "    <tr>\n",
              "      <th>29507</th>\n",
              "      <td>F21Q30006434</td>\n",
              "      <td>202111</td>\n",
              "      <td>67000.0</td>\n",
              "      <td>3</td>\n",
              "      <td>357</td>\n",
              "      <td>3.875</td>\n",
              "      <td>706</td>\n",
              "      <td>P</td>\n",
              "      <td>38</td>\n",
              "      <td>67000</td>\n",
              "      <td>...</td>\n",
              "      <td>67000.000000</td>\n",
              "      <td>3.000000</td>\n",
              "      <td>-0.775000</td>\n",
              "      <td>38.000000</td>\n",
              "      <td>80.000000</td>\n",
              "      <td>4.2</td>\n",
              "      <td>67000.000000</td>\n",
              "      <td>-0.775000</td>\n",
              "      <td>-0.791667</td>\n",
              "      <td>0.000000</td>\n",
              "    </tr>\n",
              "    <tr>\n",
              "      <th>29508</th>\n",
              "      <td>F21Q30006434</td>\n",
              "      <td>202112</td>\n",
              "      <td>67000.0</td>\n",
              "      <td>4</td>\n",
              "      <td>356</td>\n",
              "      <td>3.875</td>\n",
              "      <td>706</td>\n",
              "      <td>P</td>\n",
              "      <td>38</td>\n",
              "      <td>67000</td>\n",
              "      <td>...</td>\n",
              "      <td>67000.000000</td>\n",
              "      <td>4.000000</td>\n",
              "      <td>-0.765000</td>\n",
              "      <td>38.000000</td>\n",
              "      <td>80.000000</td>\n",
              "      <td>3.9</td>\n",
              "      <td>67000.000000</td>\n",
              "      <td>-0.765000</td>\n",
              "      <td>-0.785000</td>\n",
              "      <td>0.033637</td>\n",
              "    </tr>\n",
              "  </tbody>\n",
              "</table>\n",
              "<p>579446 rows × 52 columns</p>\n",
              "</div>\n",
              "      <button class=\"colab-df-convert\" onclick=\"convertToInteractive('df-60abe410-c190-404b-8fba-873ed1649cfc')\"\n",
              "              title=\"Convert this dataframe to an interactive table.\"\n",
              "              style=\"display:none;\">\n",
              "        \n",
              "  <svg xmlns=\"http://www.w3.org/2000/svg\" height=\"24px\"viewBox=\"0 0 24 24\"\n",
              "       width=\"24px\">\n",
              "    <path d=\"M0 0h24v24H0V0z\" fill=\"none\"/>\n",
              "    <path d=\"M18.56 5.44l.94 2.06.94-2.06 2.06-.94-2.06-.94-.94-2.06-.94 2.06-2.06.94zm-11 1L8.5 8.5l.94-2.06 2.06-.94-2.06-.94L8.5 2.5l-.94 2.06-2.06.94zm10 10l.94 2.06.94-2.06 2.06-.94-2.06-.94-.94-2.06-.94 2.06-2.06.94z\"/><path d=\"M17.41 7.96l-1.37-1.37c-.4-.4-.92-.59-1.43-.59-.52 0-1.04.2-1.43.59L10.3 9.45l-7.72 7.72c-.78.78-.78 2.05 0 2.83L4 21.41c.39.39.9.59 1.41.59.51 0 1.02-.2 1.41-.59l7.78-7.78 2.81-2.81c.8-.78.8-2.07 0-2.86zM5.41 20L4 18.59l7.72-7.72 1.47 1.35L5.41 20z\"/>\n",
              "  </svg>\n",
              "      </button>\n",
              "      \n",
              "  <style>\n",
              "    .colab-df-container {\n",
              "      display:flex;\n",
              "      flex-wrap:wrap;\n",
              "      gap: 12px;\n",
              "    }\n",
              "\n",
              "    .colab-df-convert {\n",
              "      background-color: #E8F0FE;\n",
              "      border: none;\n",
              "      border-radius: 50%;\n",
              "      cursor: pointer;\n",
              "      display: none;\n",
              "      fill: #1967D2;\n",
              "      height: 32px;\n",
              "      padding: 0 0 0 0;\n",
              "      width: 32px;\n",
              "    }\n",
              "\n",
              "    .colab-df-convert:hover {\n",
              "      background-color: #E2EBFA;\n",
              "      box-shadow: 0px 1px 2px rgba(60, 64, 67, 0.3), 0px 1px 3px 1px rgba(60, 64, 67, 0.15);\n",
              "      fill: #174EA6;\n",
              "    }\n",
              "\n",
              "    [theme=dark] .colab-df-convert {\n",
              "      background-color: #3B4455;\n",
              "      fill: #D2E3FC;\n",
              "    }\n",
              "\n",
              "    [theme=dark] .colab-df-convert:hover {\n",
              "      background-color: #434B5C;\n",
              "      box-shadow: 0px 1px 3px 1px rgba(0, 0, 0, 0.15);\n",
              "      filter: drop-shadow(0px 1px 2px rgba(0, 0, 0, 0.3));\n",
              "      fill: #FFFFFF;\n",
              "    }\n",
              "  </style>\n",
              "\n",
              "      <script>\n",
              "        const buttonEl =\n",
              "          document.querySelector('#df-60abe410-c190-404b-8fba-873ed1649cfc button.colab-df-convert');\n",
              "        buttonEl.style.display =\n",
              "          google.colab.kernel.accessAllowed ? 'block' : 'none';\n",
              "\n",
              "        async function convertToInteractive(key) {\n",
              "          const element = document.querySelector('#df-60abe410-c190-404b-8fba-873ed1649cfc');\n",
              "          const dataTable =\n",
              "            await google.colab.kernel.invokeFunction('convertToInteractive',\n",
              "                                                     [key], {});\n",
              "          if (!dataTable) return;\n",
              "\n",
              "          const docLinkHtml = 'Like what you see? Visit the ' +\n",
              "            '<a target=\"_blank\" href=https://colab.research.google.com/notebooks/data_table.ipynb>data table notebook</a>'\n",
              "            + ' to learn more about interactive tables.';\n",
              "          element.innerHTML = '';\n",
              "          dataTable['output_type'] = 'display_data';\n",
              "          await google.colab.output.renderOutput(dataTable, element);\n",
              "          const docLink = document.createElement('div');\n",
              "          docLink.innerHTML = docLinkHtml;\n",
              "          element.appendChild(docLink);\n",
              "        }\n",
              "      </script>\n",
              "    </div>\n",
              "  </div>\n",
              "  "
            ]
          },
          "metadata": {},
          "execution_count": 40
        }
      ]
    },
    {
      "cell_type": "markdown",
      "source": [
        "### Working weigthed average approach"
      ],
      "metadata": {
        "id": "ObESTrQxYW8I"
      }
    },
    {
      "cell_type": "markdown",
      "source": [
        "Shit works, correct balance based on poolid and month"
      ],
      "metadata": {
        "id": "33Ht7T8g_dKP"
      }
    },
    {
      "cell_type": "code",
      "source": [
        "# df_new_backup['pool_balance'] = df_new_backup.groupby(['poolid', 'report_year', 'month'])['current_UPB'].transform('sum')"
      ],
      "metadata": {
        "id": "ehMEu6XDk9ze"
      },
      "execution_count": null,
      "outputs": []
    },
    {
      "cell_type": "markdown",
      "source": [
        "Now we create weights based on the current outstanding unpaid balance"
      ],
      "metadata": {
        "id": "0gonUQME_w1-"
      }
    },
    {
      "cell_type": "code",
      "source": [
        "# df_new_backup['weighted_P'] = (df_new_backup['current_UPB']/df_new_backup['pool_balance'])"
      ],
      "metadata": {
        "id": "xu89r0A6_wQp"
      },
      "execution_count": null,
      "outputs": []
    },
    {
      "cell_type": "markdown",
      "source": [
        "Checking to see how the weight column turned out"
      ],
      "metadata": {
        "id": "Ad5f0MZgAKLl"
      }
    },
    {
      "cell_type": "code",
      "source": [
        "# df_new_backup.groupby(['poolid', 'report_year', 'month'])['weighted_P'].sum()"
      ],
      "metadata": {
        "id": "R29DIdbcA0FR"
      },
      "execution_count": null,
      "outputs": []
    },
    {
      "cell_type": "markdown",
      "source": [
        "Seems fine, but need to make a check to see if there are values not equal to 1"
      ],
      "metadata": {
        "id": "aNrKJl01Bgdh"
      }
    },
    {
      "cell_type": "code",
      "source": [
        "# df_new_backup.columns"
      ],
      "metadata": {
        "id": "olH9VRTul-Zy"
      },
      "execution_count": null,
      "outputs": []
    },
    {
      "cell_type": "markdown",
      "source": [
        "Create"
      ],
      "metadata": {
        "id": "c5lphBpKBujD"
      }
    },
    {
      "cell_type": "code",
      "source": [
        "# df = df_new_backup[['loan_sequence_number', 'poolid', 'report_year', 'month', 'current_interest_rate']]"
      ],
      "metadata": {
        "id": "YGI1biAvHLdu"
      },
      "execution_count": null,
      "outputs": []
    },
    {
      "cell_type": "code",
      "source": [
        "# df['wols_P'] = df_new_backup['current_interest_rate'] * (df_new_backup['current_UPB']/df_new_backup['pool_balance'])"
      ],
      "metadata": {
        "id": "_cmtB1Aek9wU"
      },
      "execution_count": null,
      "outputs": []
    },
    {
      "cell_type": "code",
      "source": [
        "# df"
      ],
      "metadata": {
        "id": "JKwdoeZqHqSe"
      },
      "execution_count": null,
      "outputs": []
    },
    {
      "cell_type": "code",
      "source": [
        "# df['wa_current_interest_rate'] = df.groupby(['poolid', 'report_year', 'month'])['wols_P'].transform('sum')"
      ],
      "metadata": {
        "id": "q8x0Apr7k9tD"
      },
      "execution_count": null,
      "outputs": []
    },
    {
      "cell_type": "code",
      "source": [
        "# df.loc[df['poolid'] == 1617].to_excel('test.xlsx')"
      ],
      "metadata": {
        "id": "SSqFmj8Mk9iC"
      },
      "execution_count": null,
      "outputs": []
    },
    {
      "cell_type": "code",
      "source": [
        "# df.loc[(df['poolid'] == 1617) & (df['report_year'] == 2020) & (df['month'] == 12)]"
      ],
      "metadata": {
        "id": "HKsGplcTgEw4"
      },
      "execution_count": null,
      "outputs": []
    },
    {
      "cell_type": "markdown",
      "source": [
        "# Weight calcuation working | create the new dataframe in a loop and we are good to go"
      ],
      "metadata": {
        "id": "LkznNmK1Jxp-"
      }
    },
    {
      "cell_type": "markdown",
      "source": [
        "# Exporting dataset"
      ],
      "metadata": {
        "id": "0CWTDB1Z_s_w"
      }
    },
    {
      "cell_type": "code",
      "source": [
        "# # Write df into a sequence of small files\n",
        "\n",
        "# #out_dir = '../30y fixed rate data/fnm/conforming/clean data'\n",
        "# out_dir = '../30y fixed rate data/fnm/jumbos/clean data'\n",
        "\n",
        "# print(f'df.shape = {df.shape}')\n",
        "\n",
        "# rows = df.shape[0]\n",
        "\n",
        "# N = rows//30000 + 1\n",
        "\n",
        "# for i in range(N):\n",
        "#     df.iloc[i*30000:(i+1)*30000,].to_csv(f'{out_dir}/pools_part{i+1}.csv',index=False)"
      ],
      "metadata": {
        "id": "O6PllGtz_uuV"
      },
      "execution_count": null,
      "outputs": []
    }
  ],
  "metadata": {
    "kernelspec": {
      "display_name": "Python 3",
      "name": "python3"
    },
    "language_info": {
      "name": "python"
    },
    "colab": {
      "name": "Thesis.ipynb",
      "provenance": [],
      "machine_shape": "hm",
      "collapsed_sections": [],
      "include_colab_link": true
    }
  },
  "nbformat": 4,
  "nbformat_minor": 0
}