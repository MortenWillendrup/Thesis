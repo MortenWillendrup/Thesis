{
  "cells": [
    {
      "cell_type": "code",
      "source": [
        ""
      ],
      "metadata": {
        "id": "CJUkyoLdXBQW"
      },
      "execution_count": null,
      "outputs": []
    },
    {
      "cell_type": "code",
      "source": [
        "from google.colab import drive\n",
        "drive.mount('/content/drive')"
      ],
      "metadata": {
        "id": "ttKmma-4Lye6",
        "outputId": "da15f1ff-686c-439d-9a89-23a2036db350",
        "colab": {
          "base_uri": "https://localhost:8080/"
        }
      },
      "execution_count": 1,
      "outputs": [
        {
          "output_type": "stream",
          "name": "stdout",
          "text": [
            "Drive already mounted at /content/drive; to attempt to forcibly remount, call drive.mount(\"/content/drive\", force_remount=True).\n"
          ]
        }
      ]
    },
    {
      "cell_type": "code",
      "source": [
        "import os\n",
        "os.chdir('/content/drive/MyDrive/MBSPrepaymentPrediction')\n",
        "os.getcwd()\n",
        "ROOT_DIR = r'/content/drive/MyDrive/MBSPrepaymentPrediction'"
      ],
      "metadata": {
        "id": "3icUSZdoMREM"
      },
      "execution_count": 2,
      "outputs": []
    },
    {
      "cell_type": "code",
      "source": [
        "import os\n",
        "import math\n",
        "\n",
        "import matplotlib.pyplot as plt\n",
        "import pandas as pd\n",
        "from sklearn.decomposition import PCA\n",
        "from sklearn.preprocessing import StandardScaler\n",
        "\n",
        "from Definitions import ROOT_DIR\n",
        "\n",
        "\n",
        "class StandardLoanLevelDatasetParser:\n",
        "\n",
        "    def __init__(self, max_rows_per_quarter=None, rows_to_sample=None, dump_to_csv=None, seed=None, startyear='2018', startquarter='Q1'):\n",
        "\n",
        "        self.sll_dataset_dir = os.path.join(ROOT_DIR, \"Datasets/StandardLoanLevelDataset/data/\"+startyear+startquarter)\n",
        "        print(self.sll_dataset_dir)\n",
        "        self._issuance_cols = [\n",
        "            'credit_score', 'first_payment_date', 'first_time_homebuyer_flag', 'maturity_date', 'MSA', 'MI_%',\n",
        "            'number_of_units', 'occupancy_status', 'orig_CLTV', 'orig_DTI', 'orig_UPB', 'orig_LTV',\n",
        "            'orig_interest_rate', 'channel', 'PPM', 'amortization_type', 'property_state', 'property_type',\n",
        "            'postal_code', 'loan_sequence_number', 'loan_purpose', 'orig_loan_term', 'number_of_borrowers',\n",
        "            'seller_name', 'servicer_name', 'super_conforming', 'pre-harp_sequence_number', 'program_indicator',\n",
        "            'harp_indicator', 'property_valuation_method', 'io_indicator'\n",
        "        ]\n",
        "        self._issuance_string = \"historical_data\"\n",
        "\n",
        "        self._performance_cols = [\n",
        "            'loan_sequence_number', 'report_month', 'current_UPB', 'current_loan_dlqc_status', 'loan_age',\n",
        "            'months_to_maturity', 'repurchase', 'modification', 'zero_balance_code', 'zero_balance_date',\n",
        "            'current_interest_rate', 'current_deffered_UPB', 'DDLPI', 'MI_recoveries', 'net_sales_proceeds',\n",
        "            'non_MI_recoveries', 'expenses', 'legal_costs', 'maintenance_costs', 'taxes_and_insurence',\n",
        "            'miscellaneous_expenses', 'actual_loss', 'modification_cost', 'step_modification', 'deferred_payment_plan',\n",
        "            'estimated_LTV', 'zero_balance_removal_UPB', 'dlq_accrued_interest', 'dlqc_due_to_disaster',\n",
        "            'borrower_assistance_status'\n",
        "        ]\n",
        "        self._performance_string = self._issuance_string + \"_time\"\n",
        "\n",
        "        self.us_hpa_path = os.path.join(ROOT_DIR, \"Datasets/MacroData/US_HPA.csv\")\n",
        "        self.us_hpa_cols = ['hpa_state', 'hpa_year', 'hpa_quarter', 'hpi']\n",
        "\n",
        "        self.state_hpa_path = os.path.join(ROOT_DIR, \"Datasets/MacroData/state_HPA.csv\")\n",
        "        self.state_hpa_cols = ['hpa_state', 'hpa_year', 'hpa_quarter', 'hpi']\n",
        "\n",
        "        self.mtg_rate_path = os.path.join(ROOT_DIR, \"Datasets/MacroData/mortgage_rate.csv\")\n",
        "        self.mtg_rate_cols = ['mtg_date', 'mtg_rate']\n",
        "        self.mtg_rate_header = 8\n",
        "\n",
        "        self.unemployment_rate_path = os.path.join(ROOT_DIR, \"Datasets/MacroData/unemployment_rate.csv\")\n",
        "        self.unemployment_rate_cols = ['unemp_series_id', 'unemp_year', 'unemp_period', 'unemp_rate']\n",
        "        self.unemployment_rate_header = 0\n",
        "\n",
        "        self.data_types = {\n",
        "            # Issuance data types\n",
        "            'credit_score': 'int64', 'first_payment_date': 'int64', 'first_time_homebuyer_flag': 'S',\n",
        "            'maturity_date': 'int64', 'MSA': 'float64', 'MI_%': 'S', 'number_of_units': 'S',\n",
        "            'occupancy_status': 'S', 'orig_CLTV': 'int64', 'orig_DTI': 'int64', 'orig_UPB': 'int64', 'orig_LTV': 'int64',\n",
        "            'orig_interest_rate': 'S', 'channel': 'S', 'PPM': 'S', 'amortization_type': 'S',\n",
        "            'property_state': 'S', 'property_type': 'S', 'postal_code': 'int64', 'loan_sequence_number': 'S',\n",
        "            'loan_purpose': 'S', 'orig_loan_term': 'int64', 'number_of_borrowers': 'int64', 'seller_name': 'S',\n",
        "            'servicer_name': 'S', 'super_conforming': 'S', 'pre-harp_sequence_number': 'S', 'program_indicator': 'S',\n",
        "            'harp_indicator': 'S', 'property_valuation_method': 'int64', 'io_indicator': 'S',\n",
        "            # Performance data types\n",
        "            'report_month': 'int64', 'current_UPB': 'float64', 'current_loan_dlqc_status': 'S', 'loan_age': 'int64',\n",
        "            'months_to_maturity': 'int64', 'repurchase': 'S', 'modification': 'S', 'zero_balance_code': 'float64',\n",
        "            'zero_balance_date': 'float64', 'current_interest_rate': 'float64', 'current_deffered_UPB': 'S',\n",
        "            'DDLPI': 'float64', 'MI_recoveries': 'float64', 'net_sales_proceeds': 'float64', 'non_MI_recoveries': 'float64',\n",
        "            'expenses': 'float64', 'legal_costs': 'float64', 'maintenance_costs': 'float64',\n",
        "            'taxes_and_insurence': 'float64', 'miscellaneous_expenses': 'float64', 'actual_loss': 'float64',\n",
        "            'modification_cost': 'float64', 'step_modification': 'S', 'deferred_payment_plan': 'S',\n",
        "            'estimated_LTV': 'float64', 'zero_balance_removal_UPB': 'float64', 'dlq_accrued_interest': 'float64',\n",
        "            'dlqc_due_to_disaster': 'S', 'borrower_assistance_status': 'S',\n",
        "            # US / State HPA data types\n",
        "            'hpa_state': 'S', 'hpa_year': 'int64', 'hpa_quarter': 'int64', 'hpi': 'float64',\n",
        "            # Mortgage Rate data types\n",
        "            'mtg_date': 'S', 'mtg_rate': 'float64',\n",
        "            # Unemployment Rate data types\n",
        "            'unemp_series_id': 'S', 'unemp_year': 'int64', 'unemp_period': 'S', 'unemp_rate': 'float64'\n",
        "        }\n",
        "\n",
        "        self.categorical_cols = ['occupancy_status', 'property_state', 'loan_purpose', 'month']\n",
        "        self.numerical_cols = [\n",
        "            'credit_score', 'first_time_homebuyer_flag', 'MI_%', 'number_of_units', 'orig_CLTV', 'orig_DTI', 'orig_UPB',\n",
        "            'orig_LTV', 'orig_interest_rate', 'PPM', 'number_of_borrowers', 'program_indicator', 'harp_indicator',\n",
        "            'current_UPB', 'loan_age', 'months_to_maturity', 'modification', 'current_interest_rate',\n",
        "            'current_deffered_UPB', 'step_modification', 'deferred_payment_plan', 'borrower_assistance_status', 'hpa',\n",
        "            'mtg_rate', 'unemp_rate', 'zero_balance_code'\n",
        "        ]\n",
        "\n",
        "\n",
        "        self.max_rows_per_quarter = max_rows_per_quarter\n",
        "        self.data = pd.DataFrame()\n",
        "        self.seed = seed\n",
        "        self.rows_to_sample = rows_to_sample\n",
        "        self.dump_to_csv = dump_to_csv\n",
        "\n",
        "    def load(self):\n",
        "        print(f\"Loading Standard Loan-Level Dataset at path {self.sll_dataset_dir}\")\n",
        "        print(\"this is working\")\n",
        "        for root, dirs, _ in os.walk(self.sll_dataset_dir):\n",
        "            print(root)\n",
        "            print(dirs)\n",
        "            print(_)\n",
        "            for dir_name in _:\n",
        "                #print(f' this is the dir name {dir_name}')\n",
        "                # if \"historical_data_\" not in dir_name or \"Q\" not in dir_name:\n",
        "                #     continue\n",
        "                print('\\n')\n",
        "                print(f\"Adding data from {dir_name} to dataset...\")\n",
        "                dir_path = os.path.join(root, dir_name)\n",
        "\n",
        "                split_name = dir_path.split('_')\n",
        "                year = split_name[-1][:4]\n",
        "                quarter = split_name[-1][4:]\n",
        "\n",
        "                issuance_path = os.path.join(root, self._issuance_string + \"_\" + year + quarter )\n",
        "                print(issuance_path)\n",
        "                performance_path = os.path.join(root, self._performance_string + \"_\" + year + quarter )\n",
        "                print(performance_path)\n",
        "                issuance = pd.read_csv(issuance_path, delimiter='|', names=self._issuance_cols, dtype=self.data_types,\n",
        "                                       nrows=self.max_rows_per_quarter, error_bad_lines=False)\n",
        "                issuance = issuance[issuance.eval(\n",
        "                    \"amortization_type=='FRM' & property_type=='SF' & orig_loan_term==360 & io_indicator=='N'\")]\n",
        "                \n",
        "                print('issuance loaded')\n",
        "                if self.rows_to_sample:\n",
        "                    issuance = issuance.sample(min(self.rows_to_sample, len(issuance.index)), random_state=self.seed)\n",
        "\n",
        "                performance = pd.read_csv(performance_path, delimiter='|', names=self._performance_cols, dtype=self.data_types, nrows=self.max_rows_per_quarter, index_col=False)\n",
        "                performance = performance.loc[performance['loan_sequence_number'].isin(set(issuance['loan_sequence_number']))]\n",
        "                print('issuance loaded')\n",
        "                full_data = performance.join(issuance.set_index('loan_sequence_number'), on='loan_sequence_number')\n",
        "                full_data['year'] = int(year)\n",
        "                full_data['quarter'] = int(quarter[1])\n",
        "                full_data['report_year'] = full_data['report_month'] // 100\n",
        "                full_data['report_quarter'] = full_data['report_month'] % 100 // 4 + 1\n",
        "                self.data = self.data.append(full_data)\n",
        "\n",
        "        us_hpa = pd.read_csv(self.us_hpa_path, delimiter=';', names=self.us_hpa_cols, dtype=self.data_types)\n",
        "        us_hpa = us_hpa[us_hpa['hpa_state'] == 'USA']\n",
        "        us_hpa['hpa'] = ((us_hpa.hpi / us_hpa.hpi.shift(1)) ** 4 - 1) * 100\n",
        "        us_hpa['hpa_state'] = 'PR'\n",
        "\n",
        "        state_hpa = pd.read_csv(self.state_hpa_path, delimiter=',', names=self.state_hpa_cols, dtype=self.data_types)\n",
        "        state_hpa['hpa'] = ((state_hpa.hpi / state_hpa.hpi.shift(1)) ** 4 - 1) * 100\n",
        "\n",
        "        hpa = pd.concat([state_hpa, us_hpa])\n",
        "        self.data = self.data.join(hpa.set_index(['hpa_state', 'hpa_year', 'hpa_quarter']), on=['property_state', 'report_year', 'report_quarter'])\n",
        "\n",
        "        mtg_rate = pd.read_csv(self.mtg_rate_path, header=self.mtg_rate_header, names=self.mtg_rate_cols, dtype=self.data_types)\n",
        "        split_date = mtg_rate['mtg_date'].str.split('-', expand=True)\n",
        "        mtg_rate['yearmon'] = split_date[0].astype(int) * 100 + split_date[1].astype(int)\n",
        "        mtg_rate = mtg_rate.drop(columns='mtg_date')\n",
        "        self.data = self.data.join(mtg_rate.set_index('yearmon'), on='report_month')\n",
        "\n",
        "        unemp = pd.read_csv(self.unemployment_rate_path, delimiter=';', header=self.unemployment_rate_header, names=self.unemployment_rate_cols, dtype=self.data_types)\n",
        "        unemp.columns = self.unemployment_rate_cols\n",
        "        unemp['yearmon'] = unemp['unemp_year'] * 100 + unemp['unemp_period'].str.slice(1, 3).astype(int)\n",
        "        unemp = unemp.drop(columns=['unemp_series_id', 'unemp_year', 'unemp_period'])\n",
        "        self.data = self.data.join(unemp.set_index('yearmon'), on='report_month')\n",
        "        #print(\"time for cleaning\")\n",
        "        self._clean()\n",
        "\n",
        "        #self.data = self.data[self.use_cols]\n",
        "\n",
        "        if self.dump_to_csv:\n",
        "            self.data.to_csv(self.sll_dataset_dir+'/'+dir_name[0:-4]+'.csv', index=False)\n",
        "\n",
        "    def _clean(self):\n",
        "        self.data['MSA'] = self.data['MSA'].apply(lambda x: 999 if math.isnan(x) else x)\n",
        "        self.data['number_of_units'] = self.data['number_of_units'].apply(lambda x: 99 if x == '.' else int(x))\n",
        "        self.data['harp_indicator'] = self.data['harp_indicator'].apply(lambda x: 0 if x != 'Y' else 1)\n",
        "        self.data['first_time_homebuyer_flag'] = self.data['first_time_homebuyer_flag'].apply(lambda x: 0 if x == 'N' else 1)\n",
        "        self.data['program_indicator'] = self.data['program_indicator'].apply(lambda x: 0 if x == 9 else 1)\n",
        "        self.data['PPM'] = self.data['PPM'].apply(lambda x: 0 if x == 'N' else 1)\n",
        "        self.data['super_conforming'] = self.data['super_conforming'].apply(lambda x: 1 if x == 'Y' else 0)\n",
        "        self.data['pre-harp_sequence_number'] = self.data['pre-harp_sequence_number'].apply(lambda x: \"\" if pd.isna(x) else x)\n",
        "        self.data['orig_interest_rate'] = self.data['orig_interest_rate'].apply(lambda x: 0.0 if x == '.' else float(x))\n",
        "        self.data['MI_%'] = self.data['MI_%'].apply(lambda x: 0 if x == '.' else int(x))\n",
        "\n",
        "        self.data['modification'] = self.data['modification'].apply(lambda x: 0 if x != 'Y' else 1)\n",
        "        self.data['step_modification'] = self.data['step_modification'].apply(lambda x: 0 if x != 'Y' else 1)\n",
        "        self.data['deferred_payment_plan'] = self.data['deferred_payment_plan'].apply(lambda x: 0 if x != 'Y' else 1)\n",
        "        self.data['borrower_assistance_status'] = self.data['borrower_assistance_status'].apply(lambda x: 0 if x not in ['F', 'R', 'T'] else 1)\n",
        "        self.data['current_deffered_UPB'] = self.data['current_deffered_UPB'].apply(lambda x: 0.0 if x == '.' else float(x))\n",
        "        self.data['zero_balance_code'] = self.data['zero_balance_code'].apply(lambda x: int(1) if x == 1 else int(0))\n",
        "        self.data['zero_balance_date'] = self.data['zero_balance_date'].apply(lambda x: 1 if pd.isna(x) else int(x))\n",
        "        self.data['DDLPI'] = self.data['DDLPI'].apply(lambda x: 1 if pd.isna(x) else int(x))\n",
        "        self.data['repurchase'] = self.data['repurchase'].apply(lambda x: 1 if x == 'Y' else 0)\n",
        "        self.data['MI_recoveries'] = self.data['MI_recoveries'].apply(lambda x: 0.0 if pd.isna(x) else x)\n",
        "        self.data['net_sales_proceeds'] = self.data['net_sales_proceeds'].apply(lambda x: 0.0 if pd.isna(x) else x)\n",
        "        self.data['non_MI_recoveries'] = self.data['non_MI_recoveries'].apply(lambda x: 0.0 if pd.isna(x) else x)\n",
        "        self.data['expenses'] = self.data['expenses'].apply(lambda x: 0.0 if pd.isna(x) else x)\n",
        "        self.data['legal_costs'] = self.data['legal_costs'].apply(lambda x: 0.0 if pd.isna(x) else x)\n",
        "        self.data['maintenance_costs'] = self.data['maintenance_costs'].apply(lambda x: 0.0 if pd.isna(x) else x)\n",
        "        self.data['taxes_and_insurence'] = self.data['taxes_and_insurence'].apply(lambda x: 0.0 if pd.isna(x) else x)\n",
        "        self.data['miscellaneous_expenses'] = self.data['miscellaneous_expenses'].apply(lambda x: 0.0 if pd.isna(x) else x)\n",
        "        self.data['actual_loss'] = self.data['actual_loss'].apply(lambda x: 0.0 if pd.isna(x) else x)\n",
        "        self.data['modification_cost'] = self.data['modification_cost'].apply(lambda x: 0.0 if pd.isna(x) else x)\n",
        "        self.data['estimated_LTV'] = self.data['estimated_LTV'].apply(lambda x: 0.0 if pd.isna(x) else x)\n",
        "        self.data['zero_balance_removal_UPB'] = self.data['zero_balance_removal_UPB'].apply(lambda x: 0.0 if pd.isna(x) else x)\n",
        "        self.data['dlq_accrued_interest'] = self.data['dlq_accrued_interest'].apply(lambda x: 0.0 if pd.isna(x) else x)\n",
        "        self.data['dlqc_due_to_disaster'] = self.data['dlqc_due_to_disaster'].apply(lambda x: 1 if x == 'Y' else 0)\n",
        "        self.data['month'] = self.data['report_month'] % 100\n",
        "\n",
        "        self.data = self.data[self.data.hpa.isnull() == False]\n",
        "\n",
        "    def get_dataset(self, extra_cols=None):\n",
        "        self.data[self.categorical_cols] = self.data[self.categorical_cols].astype('category')\n",
        "        df_dummy = pd.get_dummies(self.data[self.categorical_cols])\n",
        "        df = pd.concat([self.data[self.numerical_cols], df_dummy], axis=1)\n",
        "        if extra_cols is not None:\n",
        "            df = pd.concat([df, self.data[['report_month', 'zero_balance_removal_UPB']]], axis=1)\n",
        "        return df\n",
        "\n",
        "    def dataset_name(self):\n",
        "        name = []\n",
        "        for root, dirs, _ in os.walk(self.sll_dataset_dir):\n",
        "            for dir_name in _:\n",
        "                #print(dir_name[0:-4])\n",
        "                name.append(dir_name[0:-4])\n",
        "        return name[0]\n",
        "\n",
        "    def get_cols(self, columns):\n",
        "        return pd.DataFrame(self.data[columns], columns=columns)\n",
        "\n",
        "    def _load_issuance_data(self, file_path):\n",
        "        issuance = pd.read_csv(file_path, delimiter='|', header=None)\n",
        "        issuance.columns = self._issuance_cols\n",
        "        self.data.join(issuance.set_index('loan'))\n"
      ],
      "metadata": {
        "id": "vfQt1GgrH2BX"
      },
      "execution_count": 11,
      "outputs": []
    },
    {
      "cell_type": "code",
      "source": [
        "\n",
        "    # Visualize the dataset using PCA\n",
        "\n",
        "YQ = [['2013', 'Q1']]\n",
        "\n",
        "\n",
        "\n",
        "for y, q in YQ:\n",
        "    sll_data_parser = StandardLoanLevelDatasetParser(max_rows_per_quarter=1000000,\n",
        "                                                      rows_to_sample=1000000,\n",
        "                                                      #dump_to_csv=True,\n",
        "                                                      startyear=y,\n",
        "                                                      startquarter=q,\n",
        "                                                      seed=2022)\n"
      ],
      "metadata": {
        "id": "DBianBxAH8Vv",
        "outputId": "24f78c52-4ad3-4ddc-9bf7-a018ffe874f3",
        "colab": {
          "base_uri": "https://localhost:8080/"
        }
      },
      "execution_count": 5,
      "outputs": [
        {
          "output_type": "stream",
          "name": "stdout",
          "text": [
            "/content/drive/MyDrive/MBSPrepaymentPrediction/Datasets/StandardLoanLevelDataset/data/2013Q1\n"
          ]
        }
      ]
    },
    {
      "cell_type": "code",
      "source": [
        "sll_data_parser.load()"
      ],
      "metadata": {
        "id": "i6UMQT72Taw3",
        "outputId": "b19dfe13-2bd8-4dd2-ce08-cbdcefa36b38",
        "colab": {
          "base_uri": "https://localhost:8080/",
          "height": 328
        }
      },
      "execution_count": 12,
      "outputs": [
        {
          "output_type": "stream",
          "name": "stdout",
          "text": [
            "Loading Standard Loan-Level Dataset at path /content/drive/MyDrive/MBSPrepaymentPrediction/Datasets/StandardLoanLevelDataset/data/2013Q1\n"
          ]
        },
        {
          "output_type": "error",
          "ename": "KeyError",
          "evalue": "ignored",
          "traceback": [
            "\u001b[0;31m---------------------------------------------------------------------------\u001b[0m",
            "\u001b[0;31mKeyError\u001b[0m                                  Traceback (most recent call last)",
            "\u001b[0;32m<ipython-input-12-f80783d3012e>\u001b[0m in \u001b[0;36m<module>\u001b[0;34m()\u001b[0m\n\u001b[0;32m----> 1\u001b[0;31m \u001b[0msll_data_parser\u001b[0m\u001b[0;34m.\u001b[0m\u001b[0mload\u001b[0m\u001b[0;34m(\u001b[0m\u001b[0;34m)\u001b[0m\u001b[0;34m\u001b[0m\u001b[0;34m\u001b[0m\u001b[0m\n\u001b[0m",
            "\u001b[0;32m<ipython-input-4-039af48933ec>\u001b[0m in \u001b[0;36mload\u001b[0;34m(self)\u001b[0m\n\u001b[1;32m    145\u001b[0m \u001b[0;34m\u001b[0m\u001b[0m\n\u001b[1;32m    146\u001b[0m         \u001b[0mhpa\u001b[0m \u001b[0;34m=\u001b[0m \u001b[0mpd\u001b[0m\u001b[0;34m.\u001b[0m\u001b[0mconcat\u001b[0m\u001b[0;34m(\u001b[0m\u001b[0;34m[\u001b[0m\u001b[0mstate_hpa\u001b[0m\u001b[0;34m,\u001b[0m \u001b[0mus_hpa\u001b[0m\u001b[0;34m]\u001b[0m\u001b[0;34m)\u001b[0m\u001b[0;34m\u001b[0m\u001b[0;34m\u001b[0m\u001b[0m\n\u001b[0;32m--> 147\u001b[0;31m         \u001b[0mself\u001b[0m\u001b[0;34m.\u001b[0m\u001b[0mdata\u001b[0m \u001b[0;34m=\u001b[0m \u001b[0mself\u001b[0m\u001b[0;34m.\u001b[0m\u001b[0mdata\u001b[0m\u001b[0;34m.\u001b[0m\u001b[0mjoin\u001b[0m\u001b[0;34m(\u001b[0m\u001b[0mhpa\u001b[0m\u001b[0;34m.\u001b[0m\u001b[0mset_index\u001b[0m\u001b[0;34m(\u001b[0m\u001b[0;34m[\u001b[0m\u001b[0;34m'hpa_state'\u001b[0m\u001b[0;34m,\u001b[0m \u001b[0;34m'hpa_year'\u001b[0m\u001b[0;34m,\u001b[0m \u001b[0;34m'hpa_quarter'\u001b[0m\u001b[0;34m]\u001b[0m\u001b[0;34m)\u001b[0m\u001b[0;34m,\u001b[0m \u001b[0mon\u001b[0m\u001b[0;34m=\u001b[0m\u001b[0;34m[\u001b[0m\u001b[0;34m'property_state'\u001b[0m\u001b[0;34m,\u001b[0m \u001b[0;34m'report_year'\u001b[0m\u001b[0;34m,\u001b[0m \u001b[0;34m'report_quarter'\u001b[0m\u001b[0;34m]\u001b[0m\u001b[0;34m)\u001b[0m\u001b[0;34m\u001b[0m\u001b[0;34m\u001b[0m\u001b[0m\n\u001b[0m\u001b[1;32m    148\u001b[0m \u001b[0;34m\u001b[0m\u001b[0m\n\u001b[1;32m    149\u001b[0m         \u001b[0mmtg_rate\u001b[0m \u001b[0;34m=\u001b[0m \u001b[0mpd\u001b[0m\u001b[0;34m.\u001b[0m\u001b[0mread_csv\u001b[0m\u001b[0;34m(\u001b[0m\u001b[0mself\u001b[0m\u001b[0;34m.\u001b[0m\u001b[0mmtg_rate_path\u001b[0m\u001b[0;34m,\u001b[0m \u001b[0mheader\u001b[0m\u001b[0;34m=\u001b[0m\u001b[0mself\u001b[0m\u001b[0;34m.\u001b[0m\u001b[0mmtg_rate_header\u001b[0m\u001b[0;34m,\u001b[0m \u001b[0mnames\u001b[0m\u001b[0;34m=\u001b[0m\u001b[0mself\u001b[0m\u001b[0;34m.\u001b[0m\u001b[0mmtg_rate_cols\u001b[0m\u001b[0;34m,\u001b[0m \u001b[0mdtype\u001b[0m\u001b[0;34m=\u001b[0m\u001b[0mself\u001b[0m\u001b[0;34m.\u001b[0m\u001b[0mdata_types\u001b[0m\u001b[0;34m)\u001b[0m\u001b[0;34m\u001b[0m\u001b[0;34m\u001b[0m\u001b[0m\n",
            "\u001b[0;32m/usr/local/lib/python3.7/dist-packages/pandas/core/frame.py\u001b[0m in \u001b[0;36mjoin\u001b[0;34m(self, other, on, how, lsuffix, rsuffix, sort)\u001b[0m\n\u001b[1;32m   9098\u001b[0m         \"\"\"\n\u001b[1;32m   9099\u001b[0m         return self._join_compat(\n\u001b[0;32m-> 9100\u001b[0;31m             \u001b[0mother\u001b[0m\u001b[0;34m,\u001b[0m \u001b[0mon\u001b[0m\u001b[0;34m=\u001b[0m\u001b[0mon\u001b[0m\u001b[0;34m,\u001b[0m \u001b[0mhow\u001b[0m\u001b[0;34m=\u001b[0m\u001b[0mhow\u001b[0m\u001b[0;34m,\u001b[0m \u001b[0mlsuffix\u001b[0m\u001b[0;34m=\u001b[0m\u001b[0mlsuffix\u001b[0m\u001b[0;34m,\u001b[0m \u001b[0mrsuffix\u001b[0m\u001b[0;34m=\u001b[0m\u001b[0mrsuffix\u001b[0m\u001b[0;34m,\u001b[0m \u001b[0msort\u001b[0m\u001b[0;34m=\u001b[0m\u001b[0msort\u001b[0m\u001b[0;34m\u001b[0m\u001b[0;34m\u001b[0m\u001b[0m\n\u001b[0m\u001b[1;32m   9101\u001b[0m         )\n\u001b[1;32m   9102\u001b[0m \u001b[0;34m\u001b[0m\u001b[0m\n",
            "\u001b[0;32m/usr/local/lib/python3.7/dist-packages/pandas/core/frame.py\u001b[0m in \u001b[0;36m_join_compat\u001b[0;34m(self, other, on, how, lsuffix, rsuffix, sort)\u001b[0m\n\u001b[1;32m   9136\u001b[0m                 \u001b[0mright_index\u001b[0m\u001b[0;34m=\u001b[0m\u001b[0;32mTrue\u001b[0m\u001b[0;34m,\u001b[0m\u001b[0;34m\u001b[0m\u001b[0;34m\u001b[0m\u001b[0m\n\u001b[1;32m   9137\u001b[0m                 \u001b[0msuffixes\u001b[0m\u001b[0;34m=\u001b[0m\u001b[0;34m(\u001b[0m\u001b[0mlsuffix\u001b[0m\u001b[0;34m,\u001b[0m \u001b[0mrsuffix\u001b[0m\u001b[0;34m)\u001b[0m\u001b[0;34m,\u001b[0m\u001b[0;34m\u001b[0m\u001b[0;34m\u001b[0m\u001b[0m\n\u001b[0;32m-> 9138\u001b[0;31m                 \u001b[0msort\u001b[0m\u001b[0;34m=\u001b[0m\u001b[0msort\u001b[0m\u001b[0;34m,\u001b[0m\u001b[0;34m\u001b[0m\u001b[0;34m\u001b[0m\u001b[0m\n\u001b[0m\u001b[1;32m   9139\u001b[0m             )\n\u001b[1;32m   9140\u001b[0m         \u001b[0;32melse\u001b[0m\u001b[0;34m:\u001b[0m\u001b[0;34m\u001b[0m\u001b[0;34m\u001b[0m\u001b[0m\n",
            "\u001b[0;32m/usr/local/lib/python3.7/dist-packages/pandas/core/reshape/merge.py\u001b[0m in \u001b[0;36mmerge\u001b[0;34m(left, right, how, on, left_on, right_on, left_index, right_index, sort, suffixes, copy, indicator, validate)\u001b[0m\n\u001b[1;32m    117\u001b[0m         \u001b[0mcopy\u001b[0m\u001b[0;34m=\u001b[0m\u001b[0mcopy\u001b[0m\u001b[0;34m,\u001b[0m\u001b[0;34m\u001b[0m\u001b[0;34m\u001b[0m\u001b[0m\n\u001b[1;32m    118\u001b[0m         \u001b[0mindicator\u001b[0m\u001b[0;34m=\u001b[0m\u001b[0mindicator\u001b[0m\u001b[0;34m,\u001b[0m\u001b[0;34m\u001b[0m\u001b[0;34m\u001b[0m\u001b[0m\n\u001b[0;32m--> 119\u001b[0;31m         \u001b[0mvalidate\u001b[0m\u001b[0;34m=\u001b[0m\u001b[0mvalidate\u001b[0m\u001b[0;34m,\u001b[0m\u001b[0;34m\u001b[0m\u001b[0;34m\u001b[0m\u001b[0m\n\u001b[0m\u001b[1;32m    120\u001b[0m     )\n\u001b[1;32m    121\u001b[0m     \u001b[0;32mreturn\u001b[0m \u001b[0mop\u001b[0m\u001b[0;34m.\u001b[0m\u001b[0mget_result\u001b[0m\u001b[0;34m(\u001b[0m\u001b[0;34m)\u001b[0m\u001b[0;34m\u001b[0m\u001b[0;34m\u001b[0m\u001b[0m\n",
            "\u001b[0;32m/usr/local/lib/python3.7/dist-packages/pandas/core/reshape/merge.py\u001b[0m in \u001b[0;36m__init__\u001b[0;34m(self, left, right, how, on, left_on, right_on, axis, left_index, right_index, sort, suffixes, copy, indicator, validate)\u001b[0m\n\u001b[1;32m    697\u001b[0m             \u001b[0mself\u001b[0m\u001b[0;34m.\u001b[0m\u001b[0mright_join_keys\u001b[0m\u001b[0;34m,\u001b[0m\u001b[0;34m\u001b[0m\u001b[0;34m\u001b[0m\u001b[0m\n\u001b[1;32m    698\u001b[0m             \u001b[0mself\u001b[0m\u001b[0;34m.\u001b[0m\u001b[0mjoin_names\u001b[0m\u001b[0;34m,\u001b[0m\u001b[0;34m\u001b[0m\u001b[0;34m\u001b[0m\u001b[0m\n\u001b[0;32m--> 699\u001b[0;31m         ) = self._get_merge_keys()\n\u001b[0m\u001b[1;32m    700\u001b[0m \u001b[0;34m\u001b[0m\u001b[0m\n\u001b[1;32m    701\u001b[0m         \u001b[0;31m# validate the merge keys dtypes. We may need to coerce\u001b[0m\u001b[0;34m\u001b[0m\u001b[0;34m\u001b[0m\u001b[0;34m\u001b[0m\u001b[0m\n",
            "\u001b[0;32m/usr/local/lib/python3.7/dist-packages/pandas/core/reshape/merge.py\u001b[0m in \u001b[0;36m_get_merge_keys\u001b[0;34m(self)\u001b[0m\n\u001b[1;32m   1119\u001b[0m                     \u001b[0mjoin_names\u001b[0m\u001b[0;34m.\u001b[0m\u001b[0mappend\u001b[0m\u001b[0;34m(\u001b[0m\u001b[0;32mNone\u001b[0m\u001b[0;34m)\u001b[0m\u001b[0;34m\u001b[0m\u001b[0;34m\u001b[0m\u001b[0m\n\u001b[1;32m   1120\u001b[0m                 \u001b[0;32melse\u001b[0m\u001b[0;34m:\u001b[0m\u001b[0;34m\u001b[0m\u001b[0;34m\u001b[0m\u001b[0m\n\u001b[0;32m-> 1121\u001b[0;31m                     \u001b[0mleft_keys\u001b[0m\u001b[0;34m.\u001b[0m\u001b[0mappend\u001b[0m\u001b[0;34m(\u001b[0m\u001b[0mleft\u001b[0m\u001b[0;34m.\u001b[0m\u001b[0m_get_label_or_level_values\u001b[0m\u001b[0;34m(\u001b[0m\u001b[0mk\u001b[0m\u001b[0;34m)\u001b[0m\u001b[0;34m)\u001b[0m\u001b[0;34m\u001b[0m\u001b[0;34m\u001b[0m\u001b[0m\n\u001b[0m\u001b[1;32m   1122\u001b[0m                     \u001b[0mjoin_names\u001b[0m\u001b[0;34m.\u001b[0m\u001b[0mappend\u001b[0m\u001b[0;34m(\u001b[0m\u001b[0mk\u001b[0m\u001b[0;34m)\u001b[0m\u001b[0;34m\u001b[0m\u001b[0;34m\u001b[0m\u001b[0m\n\u001b[1;32m   1123\u001b[0m             \u001b[0;32mif\u001b[0m \u001b[0misinstance\u001b[0m\u001b[0;34m(\u001b[0m\u001b[0mself\u001b[0m\u001b[0;34m.\u001b[0m\u001b[0mright\u001b[0m\u001b[0;34m.\u001b[0m\u001b[0mindex\u001b[0m\u001b[0;34m,\u001b[0m \u001b[0mMultiIndex\u001b[0m\u001b[0;34m)\u001b[0m\u001b[0;34m:\u001b[0m\u001b[0;34m\u001b[0m\u001b[0;34m\u001b[0m\u001b[0m\n",
            "\u001b[0;32m/usr/local/lib/python3.7/dist-packages/pandas/core/generic.py\u001b[0m in \u001b[0;36m_get_label_or_level_values\u001b[0;34m(self, key, axis)\u001b[0m\n\u001b[1;32m   1777\u001b[0m             \u001b[0mvalues\u001b[0m \u001b[0;34m=\u001b[0m \u001b[0mself\u001b[0m\u001b[0;34m.\u001b[0m\u001b[0maxes\u001b[0m\u001b[0;34m[\u001b[0m\u001b[0maxis\u001b[0m\u001b[0;34m]\u001b[0m\u001b[0;34m.\u001b[0m\u001b[0mget_level_values\u001b[0m\u001b[0;34m(\u001b[0m\u001b[0mkey\u001b[0m\u001b[0;34m)\u001b[0m\u001b[0;34m.\u001b[0m\u001b[0m_values\u001b[0m\u001b[0;34m\u001b[0m\u001b[0;34m\u001b[0m\u001b[0m\n\u001b[1;32m   1778\u001b[0m         \u001b[0;32melse\u001b[0m\u001b[0;34m:\u001b[0m\u001b[0;34m\u001b[0m\u001b[0;34m\u001b[0m\u001b[0m\n\u001b[0;32m-> 1779\u001b[0;31m             \u001b[0;32mraise\u001b[0m \u001b[0mKeyError\u001b[0m\u001b[0;34m(\u001b[0m\u001b[0mkey\u001b[0m\u001b[0;34m)\u001b[0m\u001b[0;34m\u001b[0m\u001b[0;34m\u001b[0m\u001b[0m\n\u001b[0m\u001b[1;32m   1780\u001b[0m \u001b[0;34m\u001b[0m\u001b[0m\n\u001b[1;32m   1781\u001b[0m         \u001b[0;31m# Check for duplicates\u001b[0m\u001b[0;34m\u001b[0m\u001b[0;34m\u001b[0m\u001b[0;34m\u001b[0m\u001b[0m\n",
            "\u001b[0;31mKeyError\u001b[0m: 'property_state'"
          ]
        }
      ]
    },
    {
      "cell_type": "code",
      "source": [
        "   \n",
        "\n",
        "        # saved the columnized dataframe\n",
        "        #sll_data_parser.get_dataset().to_csv(sll_data_parser.dataset_name()+'_Columns.csv', index=False)\n",
        "\n",
        "    data_frame = sll_data_parser.get_dataset()\n",
        "\n",
        "    #data_frame = sll_data_parser.get_dataset()\n",
        "\n",
        "    df_new =sll_data_parser.data"
      ],
      "metadata": {
        "id": "pRJsJHhCIolc"
      },
      "execution_count": null,
      "outputs": []
    },
    {
      "cell_type": "markdown",
      "source": [
        "# Macro Data handling"
      ],
      "metadata": {
        "id": "s2WYCn7hdPzX"
      }
    },
    {
      "cell_type": "code",
      "source": [
        "us_hpa_path = os.path.join(ROOT_DIR, \"Datasets/MacroData/US_HPA.csv\")\n",
        "us_hpa_cols = ['hpa_state', 'hpa_year', 'hpa_quarter', 'hpi']"
      ],
      "metadata": {
        "id": "dtX2X1svcRdW"
      },
      "execution_count": 13,
      "outputs": []
    },
    {
      "cell_type": "code",
      "source": [
        "state_hpa_path = os.path.join(ROOT_DIR, \"Datasets/MacroData/state_HPA.csv\")\n",
        "state_hpa_cols = ['hpa_state', 'hpa_year', 'hpa_quarter', 'hpi']"
      ],
      "metadata": {
        "id": "HLbBXanEcTbZ"
      },
      "execution_count": 14,
      "outputs": []
    },
    {
      "cell_type": "code",
      "source": [
        "mtg_rate_path = os.path.join(ROOT_DIR, \"Datasets/MacroData/mortgage_rate.csv\")\n",
        "mtg_rate_cols = ['mtg_date', 'mtg_rate']\n",
        "mtg_rate_header = 8"
      ],
      "metadata": {
        "id": "brBd91jWcU_1"
      },
      "execution_count": 15,
      "outputs": []
    },
    {
      "cell_type": "code",
      "source": [
        "unemployment_rate_path = os.path.join(ROOT_DIR, \"Datasets/MacroData/unemployment_rate.csv\")\n",
        "unemployment_rate_cols = ['unemp_series_id', 'unemp_year', 'unemp_period', 'unemp_rate']\n",
        "unemployment_rate_header = 0"
      ],
      "metadata": {
        "id": "gYDXv0GUcKYk"
      },
      "execution_count": 16,
      "outputs": []
    },
    {
      "cell_type": "code",
      "source": [
        "data_types = {\n",
        "    # Issuance data types\n",
        "    'credit_score': 'int64', 'first_payment_date': 'int64', 'first_time_homebuyer_flag': 'S',\n",
        "    'maturity_date': 'int64', 'MSA': 'float64', 'MI_%': 'S', 'number_of_units': 'S',\n",
        "    'occupancy_status': 'S', 'orig_CLTV': 'int64', 'orig_DTI': 'int64', 'orig_UPB': 'int64', 'orig_LTV': 'int64',\n",
        "    'orig_interest_rate': 'S', 'channel': 'S', 'PPM': 'S', 'amortization_type': 'S',\n",
        "    'property_state': 'S', 'property_type': 'S', 'postal_code': 'int64', 'loan_sequence_number': 'S',\n",
        "    'loan_purpose': 'S', 'orig_loan_term': 'int64', 'number_of_borrowers': 'int64', 'seller_name': 'S',\n",
        "    'servicer_name': 'S', 'super_conforming': 'S', 'pre-harp_sequence_number': 'S', 'program_indicator': 'S',\n",
        "    'harp_indicator': 'S', 'property_valuation_method': 'int64', 'io_indicator': 'S',\n",
        "    # Performance data types\n",
        "    'report_month': 'int64', 'current_UPB': 'float64', 'current_loan_dlqc_status': 'S', 'loan_age': 'int64',\n",
        "    'months_to_maturity': 'int64', 'repurchase': 'S', 'modification': 'S', 'zero_balance_code': 'float64',\n",
        "    'zero_balance_date': 'float64', 'current_interest_rate': 'float64', 'current_deffered_UPB': 'S',\n",
        "    'DDLPI': 'float64', 'MI_recoveries': 'float64', 'net_sales_proceeds': 'float64', 'non_MI_recoveries': 'float64',\n",
        "    'expenses': 'float64', 'legal_costs': 'float64', 'maintenance_costs': 'float64',\n",
        "    'taxes_and_insurence': 'float64', 'miscellaneous_expenses': 'float64', 'actual_loss': 'float64',\n",
        "    'modification_cost': 'float64', 'step_modification': 'S', 'deferred_payment_plan': 'S',\n",
        "    'estimated_LTV': 'float64', 'zero_balance_removal_UPB': 'float64', 'dlq_accrued_interest': 'float64',\n",
        "    'dlqc_due_to_disaster': 'S', 'borrower_assistance_status': 'S',\n",
        "    # US / State HPA data types\n",
        "    'hpa_state': 'S', 'hpa_year': 'int64', 'hpa_quarter': 'int64', 'hpi': 'float64',\n",
        "    # Mortgage Rate data types\n",
        "    'mtg_date': 'S', 'mtg_rate': 'float64',\n",
        "    # Unemployment Rate data types\n",
        "    'unemp_series_id': 'S', 'unemp_year': 'int64', 'unemp_period': 'S', 'unemp_rate': 'float64'\n",
        "}\n",
        "\n",
        "categorical_cols = ['occupancy_status', 'property_state', 'loan_purpose', 'month']\n",
        "numerical_cols = [\n",
        "    'credit_score', 'first_time_homebuyer_flag', 'MI_%', 'number_of_units', 'orig_CLTV', 'orig_DTI', 'orig_UPB',\n",
        "    'orig_LTV', 'orig_interest_rate', 'PPM', 'number_of_borrowers', 'program_indicator', 'harp_indicator',\n",
        "    'current_UPB', 'loan_age', 'months_to_maturity', 'modification', 'current_interest_rate',\n",
        "    'current_deffered_UPB', 'step_modification', 'deferred_payment_plan', 'borrower_assistance_status', 'hpa',\n",
        "    'mtg_rate', 'unemp_rate', 'zero_balance_code'\n",
        "]"
      ],
      "metadata": {
        "id": "TnY2QYVfcmMb"
      },
      "execution_count": 19,
      "outputs": []
    },
    {
      "cell_type": "code",
      "source": [
        "us_hpa = pd.read_csv(us_hpa_path, delimiter=';', names=us_hpa_cols, dtype=data_types)\n",
        "us_hpa = us_hpa[us_hpa['hpa_state'] == 'USA']\n",
        "us_hpa['hpa'] = ((us_hpa.hpi / us_hpa.hpi.shift(1)) ** 4 - 1) * 100\n",
        "us_hpa['hpa_state'] = 'PR'"
      ],
      "metadata": {
        "id": "y0uEAqZ4caGf"
      },
      "execution_count": 20,
      "outputs": []
    },
    {
      "cell_type": "code",
      "source": [
        "state_hpa = pd.read_csv(state_hpa_path, delimiter=',', names=state_hpa_cols, dtype=data_types)\n",
        "state_hpa['hpa'] = ((state_hpa.hpi / state_hpa.hpi.shift(1)) ** 4 - 1) * 100"
      ],
      "metadata": {
        "id": "oUcYW9TjcaAY"
      },
      "execution_count": 21,
      "outputs": []
    },
    {
      "cell_type": "code",
      "source": [
        "# hpa = pd.concat([state_hpa, us_hpa])\n",
        "# data = data.join(hpa.set_index(['hpa_state', 'hpa_year', 'hpa_quarter']), on=['property_state', 'report_year', 'report_quarter'])\n"
      ],
      "metadata": {
        "id": "V_8g8N_EcZ3l"
      },
      "execution_count": null,
      "outputs": []
    },
    {
      "cell_type": "code",
      "source": [
        "mtg_rate = pd.read_csv(mtg_rate_path, header=mtg_rate_header, names=mtg_rate_cols, dtype=data_types)\n",
        "split_date = mtg_rate['mtg_date'].str.split('-', expand=True)\n",
        "mtg_rate['yearmon'] = split_date[0].astype(int) * 100 + split_date[1].astype(int)\n",
        "mtg_rate = mtg_rate.drop(columns='mtg_date')\n",
        "# self.data = self.data.join(mtg_rate.set_index('yearmon'), on='report_month')"
      ],
      "metadata": {
        "id": "bwuZvsfOc2VK"
      },
      "execution_count": 22,
      "outputs": []
    },
    {
      "cell_type": "code",
      "source": [
        "unemp = pd.read_csv(unemployment_rate_path, delimiter=';', header=unemployment_rate_header, names=unemployment_rate_cols, dtype=data_types)\n",
        "unemp.columns = unemployment_rate_cols\n",
        "unemp['yearmon'] = unemp['unemp_year'] * 100 + unemp['unemp_period'].str.slice(1, 3).astype(int)\n",
        "unemp = unemp.drop(columns=['unemp_series_id', 'unemp_year', 'unemp_period'])\n",
        "#self.data = self.data.join(unemp.set_index('yearmon'), on='report_month')"
      ],
      "metadata": {
        "id": "l0ePDYqnc90a"
      },
      "execution_count": 30,
      "outputs": []
    }
  ],
  "metadata": {
    "kernelspec": {
      "display_name": "Python 2",
      "language": "python",
      "name": "python2"
    },
    "language_info": {
      "codemirror_mode": {
        "name": "ipython",
        "version": 2
      },
      "file_extension": ".py",
      "mimetype": "text/x-python",
      "name": "python",
      "nbconvert_exporter": "python",
      "pygments_lexer": "ipython2",
      "version": "2.7.10"
    },
    "colab": {
      "name": "A JumpDiffusion class for simulation-checkpoint.ipynb",
      "provenance": []
    }
  },
  "nbformat": 4,
  "nbformat_minor": 0
}